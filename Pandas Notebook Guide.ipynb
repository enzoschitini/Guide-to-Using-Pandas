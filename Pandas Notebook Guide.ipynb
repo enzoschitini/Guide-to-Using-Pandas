{
 "cells": [
  {
   "cell_type": "markdown",
   "metadata": {},
   "source": [
    "# 🐼 Guide to Using Pandas Methods and Functions\n",
    "This guide provides a practical overview of the main Pandas methods and functions for data analysis. From DataFrame management to cleaning and transformation, you will find useful examples to manipulate and analyze data in Python efficiently.\n",
    "\n",
    "By [Enzo Schitini]('https://www.linkedin.com/in/enzoschitini/')\n",
    "\n",
    "Data Scientist & Data Analyst • SQL • Expert Bubble.io • UX & UI @ Scituffy creator\n",
    "\n",
    "Pandas is one of the most powerful and widely used libraries for manipulating and analyzing data in Python. Whether you are an aspiring data scientist, an experienced analyst, or simply someone who works with data, mastering Pandas can greatly improve your productivity and data processing skills. This guide aims to provide a comprehensive overview of Pandas' essential methods and functions, enabling you to tackle complex data operations with ease and efficiency.\n",
    "\n",
    "In this guide, you will explore fundamental concepts such as data cleansing, transformation, aggregation, and visualization techniques using Pandas. Through practical examples and step-by-step instructions, you will gain a deeper understanding of how to leverage Pandas' full potential to simplify and enhance your data workflows."
   ]
  },
  {
   "cell_type": "markdown",
   "metadata": {},
   "source": [
    "### `Dataset:` For this guide, we will use data from an online store, although with fewer rows and columns than the original. We have 2022 rows and 10 columns.\n",
    "Link Dataset: https://github.com/enzoschitini/Guide-to-Using-Pandas/blob/main/pandas_csv_guide.csv"
   ]
  },
  {
   "cell_type": "markdown",
   "metadata": {},
   "source": [
    "| order_id                            | customer_state | product_category_name | product_weight_g | review_score | price | freight_value | payment_value | order_approved_at     | order_purchase_timestamp |\n",
    "|-------------------------------------|----------------|-----------------------|------------------|--------------|-------|---------------|---------------|-----------------------|-------------------------|\n",
    "| 00010242fe8c5a6d1ba2dd792cb16214    | RJ             | cool_stuff            | 650.0            | 5            | 58.9  | 13.29         | 72.19         | 2017-09-13 09:45:35   | 2017-09-13 08:59:02     |\n",
    "| 130898c0987d1801452a8ed92a670612    | GO             | cool_stuff            | 650.0            | 5            | 55.9  | 17.96         | 73.86         | 2017-06-29 02:44:11   | 2017-06-28 11:52:20     |\n",
    "| 532ed5e14e24ae1f0d735b91524b98b9    | MG             | cool_stuff            | 650.0            | 4            | 64.9  | 18.33         | 83.23         | 2018-05-18 12:31:43   | 2018-05-18 10:25:53     |\n",
    "| 6f8c31653edb8c83e1a739408b5ff750    | PR             | cool_stuff            | 650.0            | 5            | 58.9  | 16.17         | 75.07         | 2017-08-01 18:55:08   | 2017-08-01 18:38:42     |\n",
    "| 7d19f4ef4d04461989632411b7e588b9    | MG             | cool_stuff            | 650.0            | 5            | 58.9  | 13.29         | 72.19         | 2017-08-10 22:05:11   | 2017-08-10 21:48:40     |"
   ]
  },
  {
   "cell_type": "markdown",
   "metadata": {},
   "source": [
    "### Description of columns:\n",
    "\n",
    "- **order_id**: Unique identifier for the order. Each row represents a specific order made by the customer.\n",
    "\n",
    "- **customer_state**: Brazilian state where the customer resides. It is represented by a two-letter code (e.g., RJ for Rio de Janeiro).\n",
    "\n",
    "- **product_category_name**: Category of the purchased product. For example, \"cool_stuff\" indicates a specific product category.\n",
    "\n",
    "- **product_weight_g**: Weight of the product in grams. This provides information about the weight of the ordered product.\n",
    "\n",
    "- **review_score**: Review score given by the customer for the order, typically on a scale from 1 to 5.\n",
    "\n",
    "- **price**: Price of the product in the local currency (Brazilian reais). This indicates the cost of the purchased product.\n",
    "\n",
    "- **freight_value**: Shipping cost in the local currency. This represents the shipping charge for the order.\n",
    "\n",
    "- **payment_value**: Total amount paid for the order, including the product price and the shipping cost.\n",
    "\n",
    "- **order_approved_at**: Date and time when the order was approved for shipping.\n",
    "\n",
    "- **order_purchase_timestamp**: Date and time when the order was placed by the customer."
   ]
  },
  {
   "cell_type": "markdown",
   "metadata": {},
   "source": [
    "``` python\n",
    "import pandas as pd\n",
    "df = pd.read_csv('https://raw.githubusercontent.com/enzoschitini/Guide-to-Using-Pandas/refs/heads/main/pandas_csv_guide.csv').drop(columns='Unnamed: 0')\n",
    "\n",
    "```"
   ]
  },
  {
   "cell_type": "markdown",
   "metadata": {},
   "source": [
    "## Topics to work on within this guide:\n",
    "I have chosen the 10 topics that in my opinion are most used in Pandas to analyze data.\n",
    "\n",
    "### 1. **Loading Data**\n",
    "\n",
    "- `pd.read_csv()` – Loads data from a CSV file.\n",
    "- `pd.read_excel()` – Loads data from an Excel file.\n",
    "- `pd.read_sql()` – Loads data from a SQL database.\n",
    "- `pd.read_json()` – Loads data from a JSON file.\n",
    "- `pd.read_parquet()` – Loads data from a Parquet file, useful for large datasets.\n",
    "- `pd.read_html()` – Parses HTML tables from a webpage.\n",
    "- `pd.read_pickle()` – Loads data saved in Python’s pickle format.\n",
    "- `pd.read_feather()` – Loads data from a Feather-format file, suitable for fast input/output.\n",
    "- `pd.read_sas()` – Loads data from SAS files.\n",
    "- `pd.read_hdf()` – Loads data from HDF5-format files.\n",
    "\n",
    "### 2. **Inspecting Data**\n",
    "\n",
    "- `.head(n)` – Shows the first `n` rows of the DataFrame (default: 5).\n",
    "- `.tail(n)` – Shows the last `n` rows of the DataFrame.\n",
    "- `.shape` – Returns the dimensions (rows, columns) of the DataFrame.\n",
    "- `.columns` – Lists the column names.\n",
    "- `.info()` – Displays information about the DataFrame (column types, non-null counts).\n",
    "- `.describe()` – Provides descriptive statistics for numeric columns.\n",
    "- `.dtypes` – Returns data types of all columns.\n",
    "- `.index` – Returns the index (row labels) of the DataFrame.\n",
    "- `.value_counts()` – Counts unique values in a column.\n",
    "- `.isnull()` / `.notnull()` – Checks for missing values.\n",
    "- `.duplicated()` – Checks for duplicate rows.\n",
    "- `.nunique()` – Counts the number of unique values per column.\n",
    "- `.sample(n)` – Randomly selects `n` rows from the DataFrame.\n",
    "\n",
    "### 3. **Selecting and Indexing Data**\n",
    "\n",
    "- `.loc[]` – Accesses groups of rows and columns by labels.\n",
    "- `.iloc[]` – Accesses groups of rows and columns by position (integer-based).\n",
    "- `.at[]` – Accesses a single value for a row/column label pair.\n",
    "- `.iat[]` – Accesses a single value for a row/column position pair.\n",
    "- `.filter()` – Subsets the DataFrame based on row/column labels.\n",
    "- `.xs()` – Gets cross-sections from a MultiIndex.\n",
    "- `.query()` – Filters the DataFrame using a string expression.\n",
    "- `.get()` – Retrieves elements from a Series by key.\n",
    "- `.isin()` – Filters rows based on whether values are in a list.\n",
    "- `.where()` – Sets values based on a condition.\n",
    "- `.mask()` – Replaces values where a condition is `True`.\n",
    "- `.squeeze()` – Converts a DataFrame with a single column to a Series.\n",
    "\n",
    "### 4. **Data Cleaning**\n",
    "\n",
    "- `.drop()` – Removes specified labels from rows or columns.\n",
    "- `.dropna()` – Removes rows/columns with missing values.\n",
    "- `.fillna()` – Replaces missing values with a specified value.\n",
    "- `.replace()` – Replaces values within the DataFrame.\n",
    "- `.rename()` – Renames columns or indices.\n",
    "- `.interpolate()` – Fills NaN values with interpolated values.\n",
    "- `.bfill()` / `.ffill()` – Backward or forward fill of NaN values.\n",
    "- `.convert_dtypes()` – Converts columns to optimal data types.\n",
    "- `.clip()` – Limits values below or above a threshold.\n",
    "- `.abs()` – Computes the absolute value of numeric columns.\n",
    "- `.round(decimals)` – Rounds values to a specified number of decimals.\n",
    "\n",
    "### 5. **Data Transformation**\n",
    "\n",
    "- `.astype()` – Changes data type of columns.\n",
    "- `.apply()` – Applies a function along an axis (rows/columns).\n",
    "- `.applymap()` – Applies a function element-wise.\n",
    "- `.map()` – Maps values from one column to another.\n",
    "- `.sort_values()` – Sorts the DataFrame by columns.\n",
    "- `.sort_index()` – Sorts the DataFrame by its index.\n",
    "- `.reset_index()` – Resets the DataFrame’s index.\n",
    "- `.pivot()` – Reshapes data based on column values.\n",
    "- `.rank()` – Ranks values within each column.\n",
    "- `.cumsum()` / `.cumprod()` – Computes cumulative sums/products.\n",
    "- `.diff()` – Computes difference between subsequent rows.\n",
    "- `.expanding()` – Applies expanding transformations (e.g., cumulative sum).\n",
    "- `.pipe()` – Applies custom functions to the DataFrame.\n",
    "- `.eval()` – Evaluates a Python expression as a column in the DataFrame.\n",
    "\n",
    "### 6. **Aggregation and Grouping**\n",
    "\n",
    "- `.groupby()` – Groups the DataFrame based on one or more columns.\n",
    "- `.agg()` – Applies aggregation functions like sum, mean, min, max on grouped data.\n",
    "- `.sum()`, `.mean()`, `.min()`, `.max()`, `.count()` – Directly calculates these statistics.\n",
    "- `.pivot_table()` – Creates a pivot table with specified rows, columns, and values.\n",
    "- `.transform()` – Applies functions to grouped columns using `groupby()`.\n",
    "- `.size()` – Gets the size of each group.\n",
    "- `.cumcount()` – Counts cumulative occurrences of unique values.\n",
    "- `.nsmallest(n, columns)` – Finds the `n` smallest values in a column.\n",
    "- `.nlargest(n, columns)` – Finds the `n` largest values in a column.\n",
    "- `.mad()` – Mean absolute deviation for grouped data.\n",
    "- `.rolling(window).apply()` – Applies a function on a rolling window.\n",
    "\n",
    "### 7. **Merging and Combining Data**\n",
    "\n",
    "- `pd.merge()` – Merges DataFrames on specified columns.\n",
    "- `.join()` – Joins DataFrames on indices.\n",
    "- `pd.concat()` – Concatenates DataFrames along rows or columns.\n",
    "\n",
    "### 8. **Exploring Temporal Data**\n",
    "\n",
    "- `.resample()` – Groups and summarizes data based on a temporal frequency.\n",
    "- `.to_datetime()` – Converts strings to datetime objects.\n",
    "- `.dt` accessor – Accesses date components like year, month, day.\n",
    "- `.rolling()` – Applies operations on a temporal rolling window.\n",
    "- `.shift()` – Shifts data over time (e.g., periods).\n",
    "- `.diff()` – Computes the difference of successive values in time series.\n",
    "- `.asfreq()` – Changes the frequency of a time series index.\n",
    "- `.between_time()` – Extracts rows based on a specific time range.\n",
    "- `.at_time()` – Extracts rows for a specific time.\n",
    "- `.truncate()` – Trims rows before or after a specific date.\n",
    "\n",
    "### 9. **Exporting Data**\n",
    "\n",
    "- `.to_csv()` – Exports data to a CSV file.\n",
    "- `.to_excel()` – Exports data to an Excel file.\n",
    "- `.to_sql()` – Exports data to a SQL database.\n",
    "- `.to_json()` – Exports data in JSON format.\n",
    "- `.to_parquet()` – Exports data in Parquet format.\n",
    "- `.to_pickle()` – Exports data to a Python pickle file.\n",
    "- `.to_html()` – Exports data to an HTML table.\n",
    "- `.to_latex()` – Exports data in LaTeX format.\n",
    "- `.to_dict()` – Converts data to a Python dictionary.\n",
    "- `.to_markdown()` – Exports data in Markdown format.\n",
    "- `.to_clipboard()` – Copies data to the clipboard.\n",
    "- `.to_string()` – Converts the DataFrame to a string.\n",
    "- `.to_records()` – Converts the DataFrame to an array of records.\n",
    "- `.to_feather()` – Exports data in Feather format.\n",
    "\n",
    "### 10. **Handling Multi-Level Indices (MultiIndex)**\n",
    "\n",
    "- `.set_index()` – Sets one or more columns as the DataFrame’s index.\n",
    "- `.reset_index()` – Resets the DataFrame index, moving current indices to columns.\n",
    "- `.sort_index()` – Sorts the DataFrame by index values.\n",
    "- `.swaplevel()` – Swaps levels of a MultiIndex.\n",
    "- `.stack()` – Compresses column levels into rows.\n",
    "- `.unstack()` – Expands row levels into columns.\n",
    "- `.reorder_levels()` – Reorders levels of a MultiIndex.\n",
    "- `.index.get_level_values()` – Extracts values of a specific level from a MultiIndex.\n",
    "- `.droplevel()` – Removes a level from a MultiIndex.\n",
    "- `.groupby(level=...)` – Groups data based on MultiIndex levels."
   ]
  },
  {
   "cell_type": "markdown",
   "metadata": {},
   "source": [
    "## 🔥Let's get started!"
   ]
  },
  {
   "cell_type": "code",
   "execution_count": 1,
   "metadata": {},
   "outputs": [],
   "source": [
    "import pandas as pd"
   ]
  },
  {
   "cell_type": "markdown",
   "metadata": {},
   "source": [
    "# 1. Loading Data"
   ]
  },
  {
   "cell_type": "code",
   "execution_count": 2,
   "metadata": {},
   "outputs": [],
   "source": [
    "def url_github(type):\n",
    "    url_data = f'https://raw.githubusercontent.com/enzoschitini/Guide-to-Using-Pandas/refs/heads/main/Data/pandas_{type}_guide.{type}'\n",
    "    return url_data\n",
    "\n",
    "# pd.set_option('display.max_columns', None)"
   ]
  },
  {
   "cell_type": "markdown",
   "metadata": {},
   "source": [
    "### Import CSV, Execel, parquet, feather, json"
   ]
  },
  {
   "cell_type": "code",
   "execution_count": 3,
   "metadata": {},
   "outputs": [],
   "source": [
    "csv = pd.read_csv(url_github('csv')).drop(columns='Unnamed: 0')\n",
    "excel = pd.read_excel(url_github('xlsx')).drop(columns='Unnamed: 0')\n",
    "parquet = pd.read_parquet(url_github('parquet'))\n",
    "feather = pd.read_feather(url_github('feather'))\n",
    "json = pd.read_json(url_github('json'))"
   ]
  },
  {
   "cell_type": "markdown",
   "metadata": {},
   "source": [
    "### Import SQL"
   ]
  },
  {
   "cell_type": "code",
   "execution_count": 4,
   "metadata": {},
   "outputs": [
    {
     "data": {
      "text/html": [
       "<div>\n",
       "<style scoped>\n",
       "    .dataframe tbody tr th:only-of-type {\n",
       "        vertical-align: middle;\n",
       "    }\n",
       "\n",
       "    .dataframe tbody tr th {\n",
       "        vertical-align: top;\n",
       "    }\n",
       "\n",
       "    .dataframe thead th {\n",
       "        text-align: right;\n",
       "    }\n",
       "</style>\n",
       "<table border=\"1\" class=\"dataframe\">\n",
       "  <thead>\n",
       "    <tr style=\"text-align: right;\">\n",
       "      <th></th>\n",
       "      <th>order_id</th>\n",
       "      <th>customer_state</th>\n",
       "      <th>product_category_name</th>\n",
       "      <th>product_weight_g</th>\n",
       "      <th>review_score</th>\n",
       "      <th>price</th>\n",
       "      <th>freight_value</th>\n",
       "      <th>payment_value</th>\n",
       "      <th>order_approved_at</th>\n",
       "      <th>order_purchase_timestamp</th>\n",
       "    </tr>\n",
       "  </thead>\n",
       "  <tbody>\n",
       "    <tr>\n",
       "      <th>0</th>\n",
       "      <td>00010242fe8c5a6d1ba2dd792cb16214</td>\n",
       "      <td>RJ</td>\n",
       "      <td>cool_stuff</td>\n",
       "      <td>650.0</td>\n",
       "      <td>5</td>\n",
       "      <td>58.9</td>\n",
       "      <td>13.29</td>\n",
       "      <td>72.19</td>\n",
       "      <td>2017-09-13 09:45:35</td>\n",
       "      <td>2017-09-13 08:59:02</td>\n",
       "    </tr>\n",
       "    <tr>\n",
       "      <th>1</th>\n",
       "      <td>130898c0987d1801452a8ed92a670612</td>\n",
       "      <td>GO</td>\n",
       "      <td>cool_stuff</td>\n",
       "      <td>650.0</td>\n",
       "      <td>5</td>\n",
       "      <td>55.9</td>\n",
       "      <td>17.96</td>\n",
       "      <td>73.86</td>\n",
       "      <td>2017-06-29 02:44:11</td>\n",
       "      <td>2017-06-28 11:52:20</td>\n",
       "    </tr>\n",
       "    <tr>\n",
       "      <th>2</th>\n",
       "      <td>532ed5e14e24ae1f0d735b91524b98b9</td>\n",
       "      <td>MG</td>\n",
       "      <td>cool_stuff</td>\n",
       "      <td>650.0</td>\n",
       "      <td>4</td>\n",
       "      <td>64.9</td>\n",
       "      <td>18.33</td>\n",
       "      <td>83.23</td>\n",
       "      <td>2018-05-18 12:31:43</td>\n",
       "      <td>2018-05-18 10:25:53</td>\n",
       "    </tr>\n",
       "    <tr>\n",
       "      <th>3</th>\n",
       "      <td>6f8c31653edb8c83e1a739408b5ff750</td>\n",
       "      <td>PR</td>\n",
       "      <td>cool_stuff</td>\n",
       "      <td>650.0</td>\n",
       "      <td>5</td>\n",
       "      <td>58.9</td>\n",
       "      <td>16.17</td>\n",
       "      <td>75.07</td>\n",
       "      <td>2017-08-01 18:55:08</td>\n",
       "      <td>2017-08-01 18:38:42</td>\n",
       "    </tr>\n",
       "    <tr>\n",
       "      <th>4</th>\n",
       "      <td>7d19f4ef4d04461989632411b7e588b9</td>\n",
       "      <td>MG</td>\n",
       "      <td>cool_stuff</td>\n",
       "      <td>650.0</td>\n",
       "      <td>5</td>\n",
       "      <td>58.9</td>\n",
       "      <td>13.29</td>\n",
       "      <td>72.19</td>\n",
       "      <td>2017-08-10 22:05:11</td>\n",
       "      <td>2017-08-10 21:48:40</td>\n",
       "    </tr>\n",
       "  </tbody>\n",
       "</table>\n",
       "</div>"
      ],
      "text/plain": [
       "                           order_id customer_state product_category_name  \\\n",
       "0  00010242fe8c5a6d1ba2dd792cb16214             RJ            cool_stuff   \n",
       "1  130898c0987d1801452a8ed92a670612             GO            cool_stuff   \n",
       "2  532ed5e14e24ae1f0d735b91524b98b9             MG            cool_stuff   \n",
       "3  6f8c31653edb8c83e1a739408b5ff750             PR            cool_stuff   \n",
       "4  7d19f4ef4d04461989632411b7e588b9             MG            cool_stuff   \n",
       "\n",
       "   product_weight_g  review_score  price  freight_value  payment_value  \\\n",
       "0             650.0             5   58.9          13.29          72.19   \n",
       "1             650.0             5   55.9          17.96          73.86   \n",
       "2             650.0             4   64.9          18.33          83.23   \n",
       "3             650.0             5   58.9          16.17          75.07   \n",
       "4             650.0             5   58.9          13.29          72.19   \n",
       "\n",
       "     order_approved_at order_purchase_timestamp  \n",
       "0  2017-09-13 09:45:35      2017-09-13 08:59:02  \n",
       "1  2017-06-29 02:44:11      2017-06-28 11:52:20  \n",
       "2  2018-05-18 12:31:43      2018-05-18 10:25:53  \n",
       "3  2017-08-01 18:55:08      2017-08-01 18:38:42  \n",
       "4  2017-08-10 22:05:11      2017-08-10 21:48:40  "
      ]
     },
     "execution_count": 4,
     "metadata": {},
     "output_type": "execute_result"
    }
   ],
   "source": [
    "import requests\n",
    "import sqlite3\n",
    "\n",
    "# Scarica il file dal link\n",
    "url = 'https://raw.githubusercontent.com/enzoschitini/Guide-to-Using-Pandas/refs/heads/main/Data/pandas_sql_guide.db'\n",
    "response = requests.get(url)\n",
    "with open('pandas_sql_guide.db', 'wb') as f:\n",
    "    f.write(response.content)\n",
    "\n",
    "# Crea una connessione al database SQLite locale\n",
    "conn = sqlite3.connect('pandas_sql_guide.db')\n",
    "\n",
    "# Leggi la tabella SQL in un DataFrame pandas\n",
    "df_importato = pd.read_sql('SELECT * FROM pandas_sql_guide', conn).drop(columns='Unnamed: 0')\n",
    "\n",
    "# Chiudi la connessione\n",
    "conn.close()\n",
    "\n",
    "df_importato.head()\n"
   ]
  },
  {
   "cell_type": "code",
   "execution_count": 5,
   "metadata": {},
   "outputs": [
    {
     "data": {
      "text/plain": [
       "\"import sqlite3  # or use other database connectors like SQLAlchemy for different databases\\n\\n# Load your CSV file into a DataFrame\\ndf = pd.read_csv('https://raw.githubusercontent.com/enzoschitini/Guide-to-Using-Pandas/refs/heads/main/Data/pandas_csv_guide.csv')\\n\\n# Create a connection to a SQLite database (or another database)\\nconn = sqlite3.connect('pandas_sql_guide.db')  # Creates a database file if it doesn't exist\\n\\n# Save the DataFrame to the SQL database\\ndf.to_sql('pandas_sql_guide', conn, if_exists='replace', index=False)\\n\\n# Close the connection\\nconn.close()\""
      ]
     },
     "execution_count": 5,
     "metadata": {},
     "output_type": "execute_result"
    }
   ],
   "source": [
    "\"\"\"import sqlite3  # or use other database connectors like SQLAlchemy for different databases\n",
    "\n",
    "# Load your CSV file into a DataFrame\n",
    "df = pd.read_csv('https://raw.githubusercontent.com/enzoschitini/Guide-to-Using-Pandas/refs/heads/main/Data/pandas_csv_guide.csv')\n",
    "\n",
    "# Create a connection to a SQLite database (or another database)\n",
    "conn = sqlite3.connect('pandas_sql_guide.db')  # Creates a database file if it doesn't exist\n",
    "\n",
    "# Save the DataFrame to the SQL database\n",
    "df.to_sql('pandas_sql_guide', conn, if_exists='replace', index=False)\n",
    "\n",
    "# Close the connection\n",
    "conn.close()\"\"\""
   ]
  },
  {
   "cell_type": "markdown",
   "metadata": {},
   "source": [
    "### Import HTML"
   ]
  },
  {
   "cell_type": "markdown",
   "metadata": {},
   "source": [
    "``` python\n",
    "pip install lxml\n",
    "```"
   ]
  },
  {
   "cell_type": "code",
   "execution_count": 6,
   "metadata": {},
   "outputs": [
    {
     "data": {
      "text/html": [
       "<div>\n",
       "<style scoped>\n",
       "    .dataframe tbody tr th:only-of-type {\n",
       "        vertical-align: middle;\n",
       "    }\n",
       "\n",
       "    .dataframe tbody tr th {\n",
       "        vertical-align: top;\n",
       "    }\n",
       "\n",
       "    .dataframe thead tr th {\n",
       "        text-align: left;\n",
       "    }\n",
       "</style>\n",
       "<table border=\"1\" class=\"dataframe\">\n",
       "  <thead>\n",
       "    <tr>\n",
       "      <th></th>\n",
       "      <th>Country/Territory</th>\n",
       "      <th colspan=\"2\" halign=\"left\">IMF[4][5]</th>\n",
       "      <th colspan=\"2\" halign=\"left\">World Bank[6]</th>\n",
       "      <th colspan=\"2\" halign=\"left\">United Nations[7]</th>\n",
       "    </tr>\n",
       "    <tr>\n",
       "      <th></th>\n",
       "      <th>Country/Territory</th>\n",
       "      <th>Estimate</th>\n",
       "      <th>Year</th>\n",
       "      <th>Estimate</th>\n",
       "      <th>Year</th>\n",
       "      <th>Estimate</th>\n",
       "      <th>Year</th>\n",
       "    </tr>\n",
       "  </thead>\n",
       "  <tbody>\n",
       "    <tr>\n",
       "      <th>0</th>\n",
       "      <td>Monaco</td>\n",
       "      <td>—</td>\n",
       "      <td>—</td>\n",
       "      <td>240862</td>\n",
       "      <td>2022</td>\n",
       "      <td>240535</td>\n",
       "      <td>2022</td>\n",
       "    </tr>\n",
       "    <tr>\n",
       "      <th>1</th>\n",
       "      <td>Liechtenstein</td>\n",
       "      <td>—</td>\n",
       "      <td>—</td>\n",
       "      <td>187267</td>\n",
       "      <td>2022</td>\n",
       "      <td>197268</td>\n",
       "      <td>2022</td>\n",
       "    </tr>\n",
       "    <tr>\n",
       "      <th>2</th>\n",
       "      <td>Luxembourg</td>\n",
       "      <td>135321</td>\n",
       "      <td>2024</td>\n",
       "      <td>128259</td>\n",
       "      <td>2023</td>\n",
       "      <td>125897</td>\n",
       "      <td>2022</td>\n",
       "    </tr>\n",
       "    <tr>\n",
       "      <th>3</th>\n",
       "      <td>Bermuda</td>\n",
       "      <td>—</td>\n",
       "      <td>—</td>\n",
       "      <td>123091</td>\n",
       "      <td>2022</td>\n",
       "      <td>117568</td>\n",
       "      <td>2022</td>\n",
       "    </tr>\n",
       "    <tr>\n",
       "      <th>4</th>\n",
       "      <td>Switzerland</td>\n",
       "      <td>106098</td>\n",
       "      <td>2024</td>\n",
       "      <td>99995</td>\n",
       "      <td>2023</td>\n",
       "      <td>93636</td>\n",
       "      <td>2022</td>\n",
       "    </tr>\n",
       "    <tr>\n",
       "      <th>...</th>\n",
       "      <td>...</td>\n",
       "      <td>...</td>\n",
       "      <td>...</td>\n",
       "      <td>...</td>\n",
       "      <td>...</td>\n",
       "      <td>...</td>\n",
       "      <td>...</td>\n",
       "    </tr>\n",
       "    <tr>\n",
       "      <th>218</th>\n",
       "      <td>Malawi</td>\n",
       "      <td>464</td>\n",
       "      <td>2024</td>\n",
       "      <td>673</td>\n",
       "      <td>2023</td>\n",
       "      <td>615</td>\n",
       "      <td>2022</td>\n",
       "    </tr>\n",
       "    <tr>\n",
       "      <th>219</th>\n",
       "      <td>Syria</td>\n",
       "      <td>—</td>\n",
       "      <td>—</td>\n",
       "      <td>421</td>\n",
       "      <td>2021</td>\n",
       "      <td>840</td>\n",
       "      <td>2022</td>\n",
       "    </tr>\n",
       "    <tr>\n",
       "      <th>220</th>\n",
       "      <td>Afghanistan</td>\n",
       "      <td>411</td>\n",
       "      <td>2023</td>\n",
       "      <td>353</td>\n",
       "      <td>2022</td>\n",
       "      <td>345</td>\n",
       "      <td>2022</td>\n",
       "    </tr>\n",
       "    <tr>\n",
       "      <th>221</th>\n",
       "      <td>South Sudan</td>\n",
       "      <td>341</td>\n",
       "      <td>2024</td>\n",
       "      <td>1072</td>\n",
       "      <td>2015</td>\n",
       "      <td>423</td>\n",
       "      <td>2022</td>\n",
       "    </tr>\n",
       "    <tr>\n",
       "      <th>222</th>\n",
       "      <td>Burundi</td>\n",
       "      <td>321</td>\n",
       "      <td>2024</td>\n",
       "      <td>200</td>\n",
       "      <td>2023</td>\n",
       "      <td>313</td>\n",
       "      <td>2022</td>\n",
       "    </tr>\n",
       "  </tbody>\n",
       "</table>\n",
       "<p>223 rows × 7 columns</p>\n",
       "</div>"
      ],
      "text/plain": [
       "    Country/Territory IMF[4][5]       World Bank[6]       United Nations[7]  \\\n",
       "    Country/Territory  Estimate  Year      Estimate  Year          Estimate   \n",
       "0              Monaco         —     —        240862  2022            240535   \n",
       "1       Liechtenstein         —     —        187267  2022            197268   \n",
       "2          Luxembourg    135321  2024        128259  2023            125897   \n",
       "3             Bermuda         —     —        123091  2022            117568   \n",
       "4         Switzerland    106098  2024         99995  2023             93636   \n",
       "..                ...       ...   ...           ...   ...               ...   \n",
       "218            Malawi       464  2024           673  2023               615   \n",
       "219             Syria         —     —           421  2021               840   \n",
       "220       Afghanistan       411  2023           353  2022               345   \n",
       "221       South Sudan       341  2024          1072  2015               423   \n",
       "222           Burundi       321  2024           200  2023               313   \n",
       "\n",
       "           \n",
       "     Year  \n",
       "0    2022  \n",
       "1    2022  \n",
       "2    2022  \n",
       "3    2022  \n",
       "4    2022  \n",
       "..    ...  \n",
       "218  2022  \n",
       "219  2022  \n",
       "220  2022  \n",
       "221  2022  \n",
       "222  2022  \n",
       "\n",
       "[223 rows x 7 columns]"
      ]
     },
     "execution_count": 6,
     "metadata": {},
     "output_type": "execute_result"
    }
   ],
   "source": [
    "list_of_dfs = pd.read_html('https://en.wikipedia.org/wiki/List_of_countries_by_GDP_(nominal)_per_capita')\n",
    "list_of_dfs[1]"
   ]
  },
  {
   "cell_type": "markdown",
   "metadata": {},
   "source": [
    "### Create a Dataset"
   ]
  },
  {
   "cell_type": "code",
   "execution_count": 7,
   "metadata": {},
   "outputs": [],
   "source": [
    "filename_features = \"https://raw.githubusercontent.com/enzoschitini/Guide-to-Using-Pandas/refs/heads/main/Data/UCI%20HAR%20Dataset/features.txt\"\n",
    "filename_labels = \"https://raw.githubusercontent.com/enzoschitini/Guide-to-Using-Pandas/refs/heads/main/Data/UCI%20HAR%20Dataset/activity_labels.txt\"\n",
    "\n",
    "filename_subtrain = \"https://raw.githubusercontent.com/enzoschitini/Guide-to-Using-Pandas/refs/heads/main/Data/UCI%20HAR%20Dataset/train/subject_train.txt\"\n",
    "filename_xtrain = \"https://raw.githubusercontent.com/enzoschitini/Guide-to-Using-Pandas/refs/heads/main/Data/UCI%20HAR%20Dataset/train/X_train.txt\"\n",
    "filename_ytrain = \"https://raw.githubusercontent.com/enzoschitini/Guide-to-Using-Pandas/refs/heads/main/Data/UCI%20HAR%20Dataset/train/y_train.txt\""
   ]
  },
  {
   "cell_type": "code",
   "execution_count": 8,
   "metadata": {},
   "outputs": [],
   "source": [
    "features = pd.read_csv(filename_features, header=None, sep=\"#\")\n",
    "features.columns = ['nome_var']\n",
    "labels = pd.read_csv(filename_labels, delim_whitespace=True, header=None, names=['cod_label', 'label'])"
   ]
  },
  {
   "cell_type": "code",
   "execution_count": 9,
   "metadata": {},
   "outputs": [
    {
     "data": {
      "text/plain": [
       "\"subject_train = pd.read_csv(filename_subtrain, header=None, names=['subject_id'])\\nX_train = pd.read_csv(filename_xtrain, delim_whitespace=True, header=None, names=features['nome_var'].tolist())\\ny_train = pd.read_csv(filename_ytrain, header=None, names=['cod_label'])\""
      ]
     },
     "execution_count": 9,
     "metadata": {},
     "output_type": "execute_result"
    }
   ],
   "source": [
    "\"\"\"subject_train = pd.read_csv(filename_subtrain, header=None, names=['subject_id'])\n",
    "X_train = pd.read_csv(filename_xtrain, delim_whitespace=True, header=None, names=features['nome_var'].tolist())\n",
    "y_train = pd.read_csv(filename_ytrain, header=None, names=['cod_label'])\"\"\""
   ]
  },
  {
   "cell_type": "code",
   "execution_count": 10,
   "metadata": {},
   "outputs": [],
   "source": [
    "#X_train.head()"
   ]
  },
  {
   "cell_type": "code",
   "execution_count": 11,
   "metadata": {},
   "outputs": [],
   "source": [
    "#y_train.head()"
   ]
  },
  {
   "cell_type": "markdown",
   "metadata": {},
   "source": [
    "# 2. Inspecting Data"
   ]
  },
  {
   "cell_type": "markdown",
   "metadata": {},
   "source": [
    "## ``.head(n)`` – Shows the first n rows of the DataFrame (default: 5)"
   ]
  },
  {
   "cell_type": "code",
   "execution_count": 12,
   "metadata": {},
   "outputs": [
    {
     "data": {
      "text/html": [
       "<div>\n",
       "<style scoped>\n",
       "    .dataframe tbody tr th:only-of-type {\n",
       "        vertical-align: middle;\n",
       "    }\n",
       "\n",
       "    .dataframe tbody tr th {\n",
       "        vertical-align: top;\n",
       "    }\n",
       "\n",
       "    .dataframe thead th {\n",
       "        text-align: right;\n",
       "    }\n",
       "</style>\n",
       "<table border=\"1\" class=\"dataframe\">\n",
       "  <thead>\n",
       "    <tr style=\"text-align: right;\">\n",
       "      <th></th>\n",
       "      <th>order_id</th>\n",
       "      <th>customer_state</th>\n",
       "      <th>product_category_name</th>\n",
       "      <th>product_weight_g</th>\n",
       "      <th>review_score</th>\n",
       "      <th>price</th>\n",
       "      <th>freight_value</th>\n",
       "      <th>payment_value</th>\n",
       "      <th>order_approved_at</th>\n",
       "      <th>order_purchase_timestamp</th>\n",
       "    </tr>\n",
       "  </thead>\n",
       "  <tbody>\n",
       "    <tr>\n",
       "      <th>0</th>\n",
       "      <td>00010242fe8c5a6d1ba2dd792cb16214</td>\n",
       "      <td>RJ</td>\n",
       "      <td>cool_stuff</td>\n",
       "      <td>650.0</td>\n",
       "      <td>5</td>\n",
       "      <td>58.9</td>\n",
       "      <td>13.29</td>\n",
       "      <td>72.19</td>\n",
       "      <td>2017-09-13 09:45:35</td>\n",
       "      <td>2017-09-13 08:59:02</td>\n",
       "    </tr>\n",
       "    <tr>\n",
       "      <th>1</th>\n",
       "      <td>130898c0987d1801452a8ed92a670612</td>\n",
       "      <td>GO</td>\n",
       "      <td>cool_stuff</td>\n",
       "      <td>650.0</td>\n",
       "      <td>5</td>\n",
       "      <td>55.9</td>\n",
       "      <td>17.96</td>\n",
       "      <td>73.86</td>\n",
       "      <td>2017-06-29 02:44:11</td>\n",
       "      <td>2017-06-28 11:52:20</td>\n",
       "    </tr>\n",
       "    <tr>\n",
       "      <th>2</th>\n",
       "      <td>532ed5e14e24ae1f0d735b91524b98b9</td>\n",
       "      <td>MG</td>\n",
       "      <td>cool_stuff</td>\n",
       "      <td>650.0</td>\n",
       "      <td>4</td>\n",
       "      <td>64.9</td>\n",
       "      <td>18.33</td>\n",
       "      <td>83.23</td>\n",
       "      <td>2018-05-18 12:31:43</td>\n",
       "      <td>2018-05-18 10:25:53</td>\n",
       "    </tr>\n",
       "    <tr>\n",
       "      <th>3</th>\n",
       "      <td>6f8c31653edb8c83e1a739408b5ff750</td>\n",
       "      <td>PR</td>\n",
       "      <td>cool_stuff</td>\n",
       "      <td>650.0</td>\n",
       "      <td>5</td>\n",
       "      <td>58.9</td>\n",
       "      <td>16.17</td>\n",
       "      <td>75.07</td>\n",
       "      <td>2017-08-01 18:55:08</td>\n",
       "      <td>2017-08-01 18:38:42</td>\n",
       "    </tr>\n",
       "    <tr>\n",
       "      <th>4</th>\n",
       "      <td>7d19f4ef4d04461989632411b7e588b9</td>\n",
       "      <td>MG</td>\n",
       "      <td>cool_stuff</td>\n",
       "      <td>650.0</td>\n",
       "      <td>5</td>\n",
       "      <td>58.9</td>\n",
       "      <td>13.29</td>\n",
       "      <td>72.19</td>\n",
       "      <td>2017-08-10 22:05:11</td>\n",
       "      <td>2017-08-10 21:48:40</td>\n",
       "    </tr>\n",
       "  </tbody>\n",
       "</table>\n",
       "</div>"
      ],
      "text/plain": [
       "                           order_id customer_state product_category_name  \\\n",
       "0  00010242fe8c5a6d1ba2dd792cb16214             RJ            cool_stuff   \n",
       "1  130898c0987d1801452a8ed92a670612             GO            cool_stuff   \n",
       "2  532ed5e14e24ae1f0d735b91524b98b9             MG            cool_stuff   \n",
       "3  6f8c31653edb8c83e1a739408b5ff750             PR            cool_stuff   \n",
       "4  7d19f4ef4d04461989632411b7e588b9             MG            cool_stuff   \n",
       "\n",
       "   product_weight_g  review_score  price  freight_value  payment_value  \\\n",
       "0             650.0             5   58.9          13.29          72.19   \n",
       "1             650.0             5   55.9          17.96          73.86   \n",
       "2             650.0             4   64.9          18.33          83.23   \n",
       "3             650.0             5   58.9          16.17          75.07   \n",
       "4             650.0             5   58.9          13.29          72.19   \n",
       "\n",
       "     order_approved_at order_purchase_timestamp  \n",
       "0  2017-09-13 09:45:35      2017-09-13 08:59:02  \n",
       "1  2017-06-29 02:44:11      2017-06-28 11:52:20  \n",
       "2  2018-05-18 12:31:43      2018-05-18 10:25:53  \n",
       "3  2017-08-01 18:55:08      2017-08-01 18:38:42  \n",
       "4  2017-08-10 22:05:11      2017-08-10 21:48:40  "
      ]
     },
     "execution_count": 12,
     "metadata": {},
     "output_type": "execute_result"
    }
   ],
   "source": [
    "csv.head(n=5)"
   ]
  },
  {
   "cell_type": "markdown",
   "metadata": {},
   "source": [
    "## ``.tail(n)`` – Shows the last n rows of the DataFrame"
   ]
  },
  {
   "cell_type": "code",
   "execution_count": 13,
   "metadata": {},
   "outputs": [
    {
     "data": {
      "text/html": [
       "<div>\n",
       "<style scoped>\n",
       "    .dataframe tbody tr th:only-of-type {\n",
       "        vertical-align: middle;\n",
       "    }\n",
       "\n",
       "    .dataframe tbody tr th {\n",
       "        vertical-align: top;\n",
       "    }\n",
       "\n",
       "    .dataframe thead th {\n",
       "        text-align: right;\n",
       "    }\n",
       "</style>\n",
       "<table border=\"1\" class=\"dataframe\">\n",
       "  <thead>\n",
       "    <tr style=\"text-align: right;\">\n",
       "      <th></th>\n",
       "      <th>order_id</th>\n",
       "      <th>customer_state</th>\n",
       "      <th>product_category_name</th>\n",
       "      <th>product_weight_g</th>\n",
       "      <th>review_score</th>\n",
       "      <th>price</th>\n",
       "      <th>freight_value</th>\n",
       "      <th>payment_value</th>\n",
       "      <th>order_approved_at</th>\n",
       "      <th>order_purchase_timestamp</th>\n",
       "    </tr>\n",
       "  </thead>\n",
       "  <tbody>\n",
       "    <tr>\n",
       "      <th>2017</th>\n",
       "      <td>bb0c66e312ff8cb97698f012cd92553c</td>\n",
       "      <td>SP</td>\n",
       "      <td>perfumaria</td>\n",
       "      <td>350.0</td>\n",
       "      <td>5</td>\n",
       "      <td>56.99</td>\n",
       "      <td>8.72</td>\n",
       "      <td>65.71</td>\n",
       "      <td>2017-11-22 02:56:28</td>\n",
       "      <td>2017-11-19 17:05:09</td>\n",
       "    </tr>\n",
       "    <tr>\n",
       "      <th>2018</th>\n",
       "      <td>c0db7d31ace61fc360a3eaa34dd3457c</td>\n",
       "      <td>SP</td>\n",
       "      <td>perfumaria</td>\n",
       "      <td>350.0</td>\n",
       "      <td>5</td>\n",
       "      <td>56.99</td>\n",
       "      <td>8.72</td>\n",
       "      <td>65.71</td>\n",
       "      <td>2018-02-13 16:50:30</td>\n",
       "      <td>2018-02-13 16:36:56</td>\n",
       "    </tr>\n",
       "    <tr>\n",
       "      <th>2019</th>\n",
       "      <td>c0db7d31ace61fc360a3eaa34dd3457c</td>\n",
       "      <td>SP</td>\n",
       "      <td>perfumaria</td>\n",
       "      <td>350.0</td>\n",
       "      <td>5</td>\n",
       "      <td>56.99</td>\n",
       "      <td>8.72</td>\n",
       "      <td>65.71</td>\n",
       "      <td>2018-02-13 16:50:30</td>\n",
       "      <td>2018-02-13 16:36:56</td>\n",
       "    </tr>\n",
       "    <tr>\n",
       "      <th>2020</th>\n",
       "      <td>c90025afa3c59ad0768b713161777935</td>\n",
       "      <td>SP</td>\n",
       "      <td>perfumaria</td>\n",
       "      <td>350.0</td>\n",
       "      <td>5</td>\n",
       "      <td>56.99</td>\n",
       "      <td>8.72</td>\n",
       "      <td>65.71</td>\n",
       "      <td>2018-03-01 02:50:46</td>\n",
       "      <td>2018-02-28 12:59:08</td>\n",
       "    </tr>\n",
       "    <tr>\n",
       "      <th>2021</th>\n",
       "      <td>cc3336764b2bc18f4eaa8f17f86bfd53</td>\n",
       "      <td>SP</td>\n",
       "      <td>perfumaria</td>\n",
       "      <td>350.0</td>\n",
       "      <td>5</td>\n",
       "      <td>56.99</td>\n",
       "      <td>7.78</td>\n",
       "      <td>64.77</td>\n",
       "      <td>2017-06-11 17:55:17</td>\n",
       "      <td>2017-06-11 17:43:18</td>\n",
       "    </tr>\n",
       "  </tbody>\n",
       "</table>\n",
       "</div>"
      ],
      "text/plain": [
       "                              order_id customer_state product_category_name  \\\n",
       "2017  bb0c66e312ff8cb97698f012cd92553c             SP            perfumaria   \n",
       "2018  c0db7d31ace61fc360a3eaa34dd3457c             SP            perfumaria   \n",
       "2019  c0db7d31ace61fc360a3eaa34dd3457c             SP            perfumaria   \n",
       "2020  c90025afa3c59ad0768b713161777935             SP            perfumaria   \n",
       "2021  cc3336764b2bc18f4eaa8f17f86bfd53             SP            perfumaria   \n",
       "\n",
       "      product_weight_g  review_score  price  freight_value  payment_value  \\\n",
       "2017             350.0             5  56.99           8.72          65.71   \n",
       "2018             350.0             5  56.99           8.72          65.71   \n",
       "2019             350.0             5  56.99           8.72          65.71   \n",
       "2020             350.0             5  56.99           8.72          65.71   \n",
       "2021             350.0             5  56.99           7.78          64.77   \n",
       "\n",
       "        order_approved_at order_purchase_timestamp  \n",
       "2017  2017-11-22 02:56:28      2017-11-19 17:05:09  \n",
       "2018  2018-02-13 16:50:30      2018-02-13 16:36:56  \n",
       "2019  2018-02-13 16:50:30      2018-02-13 16:36:56  \n",
       "2020  2018-03-01 02:50:46      2018-02-28 12:59:08  \n",
       "2021  2017-06-11 17:55:17      2017-06-11 17:43:18  "
      ]
     },
     "execution_count": 13,
     "metadata": {},
     "output_type": "execute_result"
    }
   ],
   "source": [
    "csv.tail(n=5)"
   ]
  },
  {
   "cell_type": "markdown",
   "metadata": {},
   "source": [
    "## ``.shape`` – Returns the dimensions (rows, columns) of the DataFrame"
   ]
  },
  {
   "cell_type": "code",
   "execution_count": 14,
   "metadata": {},
   "outputs": [
    {
     "data": {
      "text/plain": [
       "(2022, 10)"
      ]
     },
     "execution_count": 14,
     "metadata": {},
     "output_type": "execute_result"
    }
   ],
   "source": [
    "csv.shape"
   ]
  },
  {
   "cell_type": "markdown",
   "metadata": {},
   "source": [
    "## ``.columns`` – Lists the column names"
   ]
  },
  {
   "cell_type": "code",
   "execution_count": 15,
   "metadata": {},
   "outputs": [
    {
     "data": {
      "text/plain": [
       "Index(['order_id', 'customer_state', 'product_category_name',\n",
       "       'product_weight_g', 'review_score', 'price', 'freight_value',\n",
       "       'payment_value', 'order_approved_at', 'order_purchase_timestamp'],\n",
       "      dtype='object')"
      ]
     },
     "execution_count": 15,
     "metadata": {},
     "output_type": "execute_result"
    }
   ],
   "source": [
    "csv.columns"
   ]
  },
  {
   "cell_type": "code",
   "execution_count": 16,
   "metadata": {},
   "outputs": [
    {
     "data": {
      "text/plain": [
       "MultiIndex([('Country/Territory', 'Country/Territory'),\n",
       "            (        'IMF[4][5]',          'Estimate'),\n",
       "            (        'IMF[4][5]',              'Year'),\n",
       "            (    'World Bank[6]',          'Estimate'),\n",
       "            (    'World Bank[6]',              'Year'),\n",
       "            ('United Nations[7]',          'Estimate'),\n",
       "            ('United Nations[7]',              'Year')],\n",
       "           )"
      ]
     },
     "execution_count": 16,
     "metadata": {},
     "output_type": "execute_result"
    }
   ],
   "source": [
    "list_of_dfs[1].columns"
   ]
  },
  {
   "cell_type": "markdown",
   "metadata": {},
   "source": [
    "## ``.info()`` – Displays information about the DataFrame (column types, non-null counts)"
   ]
  },
  {
   "cell_type": "code",
   "execution_count": 17,
   "metadata": {},
   "outputs": [
    {
     "name": "stdout",
     "output_type": "stream",
     "text": [
      "<class 'pandas.core.frame.DataFrame'>\n",
      "RangeIndex: 2022 entries, 0 to 2021\n",
      "Data columns (total 10 columns):\n",
      " #   Column                    Non-Null Count  Dtype  \n",
      "---  ------                    --------------  -----  \n",
      " 0   order_id                  2022 non-null   object \n",
      " 1   customer_state            2022 non-null   object \n",
      " 2   product_category_name     2022 non-null   object \n",
      " 3   product_weight_g          2022 non-null   float64\n",
      " 4   review_score              2022 non-null   int64  \n",
      " 5   price                     2022 non-null   float64\n",
      " 6   freight_value             2022 non-null   float64\n",
      " 7   payment_value             2022 non-null   float64\n",
      " 8   order_approved_at         2022 non-null   object \n",
      " 9   order_purchase_timestamp  2022 non-null   object \n",
      "dtypes: float64(4), int64(1), object(5)\n",
      "memory usage: 158.1+ KB\n"
     ]
    }
   ],
   "source": [
    "csv.info()"
   ]
  },
  {
   "cell_type": "markdown",
   "metadata": {},
   "source": [
    "Il metodo `info()` di un oggetto DataFrame di Pandas fornisce un riepilogo conciso del contenuto del DataFrame, mostrando dettagli utili per l'analisi preliminare del dataset. I parametri principali di `info()` sono:\n",
    "\n",
    "- `verbose`: (default `None`) Se impostato su `True`, mostrerà tutte le colonne, altrimenti una vista abbreviata (utile per dataset di grandi dimensioni).\n",
    "- `buf`: (default `None`) Specifica l'output su un oggetto come un file. Se impostato su `None`, l'output viene stampato sulla console.\n",
    "- `max_cols`: (default `None`) Limita il numero di colonne da visualizzare nel riepilogo.\n",
    "- `memory_usage`: (default `True`) Mostra l'uso della memoria del DataFrame. Può essere impostato su `'deep'` per avere una stima più precisa."
   ]
  },
  {
   "cell_type": "code",
   "execution_count": 18,
   "metadata": {},
   "outputs": [
    {
     "name": "stdout",
     "output_type": "stream",
     "text": [
      "<class 'pandas.core.frame.DataFrame'>\n",
      "RangeIndex: 2022 entries, 0 to 2021\n",
      "Data columns (total 10 columns):\n",
      " #   Column                    Non-Null Count  Dtype  \n",
      "---  ------                    --------------  -----  \n",
      " 0   order_id                  2022 non-null   object \n",
      " 1   customer_state            2022 non-null   object \n",
      " 2   product_category_name     2022 non-null   object \n",
      " 3   product_weight_g          2022 non-null   float64\n",
      " 4   review_score              2022 non-null   int64  \n",
      " 5   price                     2022 non-null   float64\n",
      " 6   freight_value             2022 non-null   float64\n",
      " 7   payment_value             2022 non-null   float64\n",
      " 8   order_approved_at         2022 non-null   object \n",
      " 9   order_purchase_timestamp  2022 non-null   object \n",
      "dtypes: float64(4), int64(1), object(5)\n",
      "memory usage: 727.2 KB\n"
     ]
    }
   ],
   "source": [
    "csv.info(verbose=True, memory_usage='deep')"
   ]
  },
  {
   "cell_type": "markdown",
   "metadata": {},
   "source": [
    "## ``.describe()`` – Provides descriptive statistics for numeric columns"
   ]
  },
  {
   "cell_type": "code",
   "execution_count": 19,
   "metadata": {},
   "outputs": [
    {
     "data": {
      "text/html": [
       "<div>\n",
       "<style scoped>\n",
       "    .dataframe tbody tr th:only-of-type {\n",
       "        vertical-align: middle;\n",
       "    }\n",
       "\n",
       "    .dataframe tbody tr th {\n",
       "        vertical-align: top;\n",
       "    }\n",
       "\n",
       "    .dataframe thead th {\n",
       "        text-align: right;\n",
       "    }\n",
       "</style>\n",
       "<table border=\"1\" class=\"dataframe\">\n",
       "  <thead>\n",
       "    <tr style=\"text-align: right;\">\n",
       "      <th></th>\n",
       "      <th>product_weight_g</th>\n",
       "      <th>review_score</th>\n",
       "      <th>price</th>\n",
       "      <th>freight_value</th>\n",
       "      <th>payment_value</th>\n",
       "    </tr>\n",
       "  </thead>\n",
       "  <tbody>\n",
       "    <tr>\n",
       "      <th>count</th>\n",
       "      <td>2022.000000</td>\n",
       "      <td>2022.000000</td>\n",
       "      <td>2022.000000</td>\n",
       "      <td>2022.000000</td>\n",
       "      <td>2022.000000</td>\n",
       "    </tr>\n",
       "    <tr>\n",
       "      <th>mean</th>\n",
       "      <td>1154.325915</td>\n",
       "      <td>4.017310</td>\n",
       "      <td>73.512992</td>\n",
       "      <td>15.884327</td>\n",
       "      <td>100.126632</td>\n",
       "    </tr>\n",
       "    <tr>\n",
       "      <th>std</th>\n",
       "      <td>2643.718753</td>\n",
       "      <td>1.381362</td>\n",
       "      <td>63.045769</td>\n",
       "      <td>9.318311</td>\n",
       "      <td>111.499859</td>\n",
       "    </tr>\n",
       "    <tr>\n",
       "      <th>min</th>\n",
       "      <td>50.000000</td>\n",
       "      <td>1.000000</td>\n",
       "      <td>2.990000</td>\n",
       "      <td>0.000000</td>\n",
       "      <td>0.220000</td>\n",
       "    </tr>\n",
       "    <tr>\n",
       "      <th>25%</th>\n",
       "      <td>203.750000</td>\n",
       "      <td>3.000000</td>\n",
       "      <td>51.900000</td>\n",
       "      <td>11.680000</td>\n",
       "      <td>65.710000</td>\n",
       "    </tr>\n",
       "    <tr>\n",
       "      <th>50%</th>\n",
       "      <td>350.000000</td>\n",
       "      <td>5.000000</td>\n",
       "      <td>58.990000</td>\n",
       "      <td>15.150000</td>\n",
       "      <td>76.650000</td>\n",
       "    </tr>\n",
       "    <tr>\n",
       "      <th>75%</th>\n",
       "      <td>950.000000</td>\n",
       "      <td>5.000000</td>\n",
       "      <td>84.990000</td>\n",
       "      <td>17.680000</td>\n",
       "      <td>106.380000</td>\n",
       "    </tr>\n",
       "    <tr>\n",
       "      <th>max</th>\n",
       "      <td>30000.000000</td>\n",
       "      <td>5.000000</td>\n",
       "      <td>1050.000000</td>\n",
       "      <td>185.730000</td>\n",
       "      <td>1525.780000</td>\n",
       "    </tr>\n",
       "  </tbody>\n",
       "</table>\n",
       "</div>"
      ],
      "text/plain": [
       "       product_weight_g  review_score        price  freight_value  \\\n",
       "count       2022.000000   2022.000000  2022.000000    2022.000000   \n",
       "mean        1154.325915      4.017310    73.512992      15.884327   \n",
       "std         2643.718753      1.381362    63.045769       9.318311   \n",
       "min           50.000000      1.000000     2.990000       0.000000   \n",
       "25%          203.750000      3.000000    51.900000      11.680000   \n",
       "50%          350.000000      5.000000    58.990000      15.150000   \n",
       "75%          950.000000      5.000000    84.990000      17.680000   \n",
       "max        30000.000000      5.000000  1050.000000     185.730000   \n",
       "\n",
       "       payment_value  \n",
       "count    2022.000000  \n",
       "mean      100.126632  \n",
       "std       111.499859  \n",
       "min         0.220000  \n",
       "25%        65.710000  \n",
       "50%        76.650000  \n",
       "75%       106.380000  \n",
       "max      1525.780000  "
      ]
     },
     "execution_count": 19,
     "metadata": {},
     "output_type": "execute_result"
    }
   ],
   "source": [
    "csv.describe()"
   ]
  },
  {
   "cell_type": "markdown",
   "metadata": {},
   "source": [
    "Il metodo `describe()` è utilizzato in Pandas per generare statistiche descrittive di un DataFrame o di una Serie. Per impostazione predefinita, restituisce le statistiche per le colonne numeriche, ma può essere utilizzato anche per dati categorici. Ecco una panoramica dei principali parametri:\n",
    "\n",
    "#### Principali Parametri di `describe()`\n",
    "\n",
    "1. **`percentiles`**: Specifica i percentili che vuoi calcolare. Per impostazione predefinita, include il 25°, 50° (mediana) e il 75° percentile. Puoi specificare una lista di percentuali per ottenere valori personalizzati.\n",
    "    - *Tipo*: array-like di numeri tra 0 e 1.\n",
    "    - *Valore predefinito*: `[0.25, 0.5, 0.75]`.\n",
    "2. **`include`**: Specifica quali tipi di dati includere nella descrizione. Può essere impostato su `None` (comportamento predefinito, solo colonne numeriche), `all` (tutti i tipi di dati) oppure su un elenco di tipi di dati come `['object']` o `['number']`.\n",
    "    - *Valore predefinito*: `None`.\n",
    "3. **`exclude`**: Specifica quali tipi di dati escludere dall'analisi. Funziona in modo complementare a `include`."
   ]
  },
  {
   "cell_type": "code",
   "execution_count": 20,
   "metadata": {},
   "outputs": [
    {
     "data": {
      "text/html": [
       "<div>\n",
       "<style scoped>\n",
       "    .dataframe tbody tr th:only-of-type {\n",
       "        vertical-align: middle;\n",
       "    }\n",
       "\n",
       "    .dataframe tbody tr th {\n",
       "        vertical-align: top;\n",
       "    }\n",
       "\n",
       "    .dataframe thead th {\n",
       "        text-align: right;\n",
       "    }\n",
       "</style>\n",
       "<table border=\"1\" class=\"dataframe\">\n",
       "  <thead>\n",
       "    <tr style=\"text-align: right;\">\n",
       "      <th></th>\n",
       "      <th>product_weight_g</th>\n",
       "      <th>review_score</th>\n",
       "      <th>price</th>\n",
       "      <th>freight_value</th>\n",
       "      <th>payment_value</th>\n",
       "    </tr>\n",
       "  </thead>\n",
       "  <tbody>\n",
       "    <tr>\n",
       "      <th>count</th>\n",
       "      <td>2022.000000</td>\n",
       "      <td>2022.000000</td>\n",
       "      <td>2022.000000</td>\n",
       "      <td>2022.000000</td>\n",
       "      <td>2022.000000</td>\n",
       "    </tr>\n",
       "    <tr>\n",
       "      <th>mean</th>\n",
       "      <td>1154.325915</td>\n",
       "      <td>4.017310</td>\n",
       "      <td>73.512992</td>\n",
       "      <td>15.884327</td>\n",
       "      <td>100.126632</td>\n",
       "    </tr>\n",
       "    <tr>\n",
       "      <th>std</th>\n",
       "      <td>2643.718753</td>\n",
       "      <td>1.381362</td>\n",
       "      <td>63.045769</td>\n",
       "      <td>9.318311</td>\n",
       "      <td>111.499859</td>\n",
       "    </tr>\n",
       "    <tr>\n",
       "      <th>min</th>\n",
       "      <td>50.000000</td>\n",
       "      <td>1.000000</td>\n",
       "      <td>2.990000</td>\n",
       "      <td>0.000000</td>\n",
       "      <td>0.220000</td>\n",
       "    </tr>\n",
       "    <tr>\n",
       "      <th>10%</th>\n",
       "      <td>200.000000</td>\n",
       "      <td>1.000000</td>\n",
       "      <td>21.000000</td>\n",
       "      <td>8.720000</td>\n",
       "      <td>29.560000</td>\n",
       "    </tr>\n",
       "    <tr>\n",
       "      <th>50%</th>\n",
       "      <td>350.000000</td>\n",
       "      <td>5.000000</td>\n",
       "      <td>58.990000</td>\n",
       "      <td>15.150000</td>\n",
       "      <td>76.650000</td>\n",
       "    </tr>\n",
       "    <tr>\n",
       "      <th>90%</th>\n",
       "      <td>2245.000000</td>\n",
       "      <td>5.000000</td>\n",
       "      <td>118.900000</td>\n",
       "      <td>23.161000</td>\n",
       "      <td>162.070000</td>\n",
       "    </tr>\n",
       "    <tr>\n",
       "      <th>max</th>\n",
       "      <td>30000.000000</td>\n",
       "      <td>5.000000</td>\n",
       "      <td>1050.000000</td>\n",
       "      <td>185.730000</td>\n",
       "      <td>1525.780000</td>\n",
       "    </tr>\n",
       "  </tbody>\n",
       "</table>\n",
       "</div>"
      ],
      "text/plain": [
       "       product_weight_g  review_score        price  freight_value  \\\n",
       "count       2022.000000   2022.000000  2022.000000    2022.000000   \n",
       "mean        1154.325915      4.017310    73.512992      15.884327   \n",
       "std         2643.718753      1.381362    63.045769       9.318311   \n",
       "min           50.000000      1.000000     2.990000       0.000000   \n",
       "10%          200.000000      1.000000    21.000000       8.720000   \n",
       "50%          350.000000      5.000000    58.990000      15.150000   \n",
       "90%         2245.000000      5.000000   118.900000      23.161000   \n",
       "max        30000.000000      5.000000  1050.000000     185.730000   \n",
       "\n",
       "       payment_value  \n",
       "count    2022.000000  \n",
       "mean      100.126632  \n",
       "std       111.499859  \n",
       "min         0.220000  \n",
       "10%        29.560000  \n",
       "50%        76.650000  \n",
       "90%       162.070000  \n",
       "max      1525.780000  "
      ]
     },
     "execution_count": 20,
     "metadata": {},
     "output_type": "execute_result"
    }
   ],
   "source": [
    "csv.describe(percentiles=[0.1, 0.9])"
   ]
  },
  {
   "cell_type": "code",
   "execution_count": 21,
   "metadata": {},
   "outputs": [
    {
     "data": {
      "text/html": [
       "<div>\n",
       "<style scoped>\n",
       "    .dataframe tbody tr th:only-of-type {\n",
       "        vertical-align: middle;\n",
       "    }\n",
       "\n",
       "    .dataframe tbody tr th {\n",
       "        vertical-align: top;\n",
       "    }\n",
       "\n",
       "    .dataframe thead th {\n",
       "        text-align: right;\n",
       "    }\n",
       "</style>\n",
       "<table border=\"1\" class=\"dataframe\">\n",
       "  <thead>\n",
       "    <tr style=\"text-align: right;\">\n",
       "      <th></th>\n",
       "      <th>order_id</th>\n",
       "      <th>customer_state</th>\n",
       "      <th>product_category_name</th>\n",
       "      <th>product_weight_g</th>\n",
       "      <th>review_score</th>\n",
       "      <th>price</th>\n",
       "      <th>freight_value</th>\n",
       "      <th>payment_value</th>\n",
       "      <th>order_approved_at</th>\n",
       "      <th>order_purchase_timestamp</th>\n",
       "    </tr>\n",
       "  </thead>\n",
       "  <tbody>\n",
       "    <tr>\n",
       "      <th>count</th>\n",
       "      <td>2022</td>\n",
       "      <td>2022</td>\n",
       "      <td>2022</td>\n",
       "      <td>2022.000000</td>\n",
       "      <td>2022.000000</td>\n",
       "      <td>2022.000000</td>\n",
       "      <td>2022.000000</td>\n",
       "      <td>2022.000000</td>\n",
       "      <td>2022</td>\n",
       "      <td>2022</td>\n",
       "    </tr>\n",
       "    <tr>\n",
       "      <th>unique</th>\n",
       "      <td>1735</td>\n",
       "      <td>27</td>\n",
       "      <td>21</td>\n",
       "      <td>NaN</td>\n",
       "      <td>NaN</td>\n",
       "      <td>NaN</td>\n",
       "      <td>NaN</td>\n",
       "      <td>NaN</td>\n",
       "      <td>1734</td>\n",
       "      <td>1735</td>\n",
       "    </tr>\n",
       "    <tr>\n",
       "      <th>top</th>\n",
       "      <td>370e2e6c1a9fd451eb7f0852daa3b006</td>\n",
       "      <td>SP</td>\n",
       "      <td>beleza_saude</td>\n",
       "      <td>NaN</td>\n",
       "      <td>NaN</td>\n",
       "      <td>NaN</td>\n",
       "      <td>NaN</td>\n",
       "      <td>NaN</td>\n",
       "      <td>2017-03-11 18:34:44</td>\n",
       "      <td>2017-03-11 18:34:44</td>\n",
       "    </tr>\n",
       "    <tr>\n",
       "      <th>freq</th>\n",
       "      <td>11</td>\n",
       "      <td>849</td>\n",
       "      <td>766</td>\n",
       "      <td>NaN</td>\n",
       "      <td>NaN</td>\n",
       "      <td>NaN</td>\n",
       "      <td>NaN</td>\n",
       "      <td>NaN</td>\n",
       "      <td>11</td>\n",
       "      <td>11</td>\n",
       "    </tr>\n",
       "    <tr>\n",
       "      <th>mean</th>\n",
       "      <td>NaN</td>\n",
       "      <td>NaN</td>\n",
       "      <td>NaN</td>\n",
       "      <td>1154.325915</td>\n",
       "      <td>4.017310</td>\n",
       "      <td>73.512992</td>\n",
       "      <td>15.884327</td>\n",
       "      <td>100.126632</td>\n",
       "      <td>NaN</td>\n",
       "      <td>NaN</td>\n",
       "    </tr>\n",
       "    <tr>\n",
       "      <th>std</th>\n",
       "      <td>NaN</td>\n",
       "      <td>NaN</td>\n",
       "      <td>NaN</td>\n",
       "      <td>2643.718753</td>\n",
       "      <td>1.381362</td>\n",
       "      <td>63.045769</td>\n",
       "      <td>9.318311</td>\n",
       "      <td>111.499859</td>\n",
       "      <td>NaN</td>\n",
       "      <td>NaN</td>\n",
       "    </tr>\n",
       "    <tr>\n",
       "      <th>min</th>\n",
       "      <td>NaN</td>\n",
       "      <td>NaN</td>\n",
       "      <td>NaN</td>\n",
       "      <td>50.000000</td>\n",
       "      <td>1.000000</td>\n",
       "      <td>2.990000</td>\n",
       "      <td>0.000000</td>\n",
       "      <td>0.220000</td>\n",
       "      <td>NaN</td>\n",
       "      <td>NaN</td>\n",
       "    </tr>\n",
       "    <tr>\n",
       "      <th>25%</th>\n",
       "      <td>NaN</td>\n",
       "      <td>NaN</td>\n",
       "      <td>NaN</td>\n",
       "      <td>203.750000</td>\n",
       "      <td>3.000000</td>\n",
       "      <td>51.900000</td>\n",
       "      <td>11.680000</td>\n",
       "      <td>65.710000</td>\n",
       "      <td>NaN</td>\n",
       "      <td>NaN</td>\n",
       "    </tr>\n",
       "    <tr>\n",
       "      <th>50%</th>\n",
       "      <td>NaN</td>\n",
       "      <td>NaN</td>\n",
       "      <td>NaN</td>\n",
       "      <td>350.000000</td>\n",
       "      <td>5.000000</td>\n",
       "      <td>58.990000</td>\n",
       "      <td>15.150000</td>\n",
       "      <td>76.650000</td>\n",
       "      <td>NaN</td>\n",
       "      <td>NaN</td>\n",
       "    </tr>\n",
       "    <tr>\n",
       "      <th>75%</th>\n",
       "      <td>NaN</td>\n",
       "      <td>NaN</td>\n",
       "      <td>NaN</td>\n",
       "      <td>950.000000</td>\n",
       "      <td>5.000000</td>\n",
       "      <td>84.990000</td>\n",
       "      <td>17.680000</td>\n",
       "      <td>106.380000</td>\n",
       "      <td>NaN</td>\n",
       "      <td>NaN</td>\n",
       "    </tr>\n",
       "    <tr>\n",
       "      <th>max</th>\n",
       "      <td>NaN</td>\n",
       "      <td>NaN</td>\n",
       "      <td>NaN</td>\n",
       "      <td>30000.000000</td>\n",
       "      <td>5.000000</td>\n",
       "      <td>1050.000000</td>\n",
       "      <td>185.730000</td>\n",
       "      <td>1525.780000</td>\n",
       "      <td>NaN</td>\n",
       "      <td>NaN</td>\n",
       "    </tr>\n",
       "  </tbody>\n",
       "</table>\n",
       "</div>"
      ],
      "text/plain": [
       "                                order_id customer_state product_category_name  \\\n",
       "count                               2022           2022                  2022   \n",
       "unique                              1735             27                    21   \n",
       "top     370e2e6c1a9fd451eb7f0852daa3b006             SP          beleza_saude   \n",
       "freq                                  11            849                   766   \n",
       "mean                                 NaN            NaN                   NaN   \n",
       "std                                  NaN            NaN                   NaN   \n",
       "min                                  NaN            NaN                   NaN   \n",
       "25%                                  NaN            NaN                   NaN   \n",
       "50%                                  NaN            NaN                   NaN   \n",
       "75%                                  NaN            NaN                   NaN   \n",
       "max                                  NaN            NaN                   NaN   \n",
       "\n",
       "        product_weight_g  review_score        price  freight_value  \\\n",
       "count        2022.000000   2022.000000  2022.000000    2022.000000   \n",
       "unique               NaN           NaN          NaN            NaN   \n",
       "top                  NaN           NaN          NaN            NaN   \n",
       "freq                 NaN           NaN          NaN            NaN   \n",
       "mean         1154.325915      4.017310    73.512992      15.884327   \n",
       "std          2643.718753      1.381362    63.045769       9.318311   \n",
       "min            50.000000      1.000000     2.990000       0.000000   \n",
       "25%           203.750000      3.000000    51.900000      11.680000   \n",
       "50%           350.000000      5.000000    58.990000      15.150000   \n",
       "75%           950.000000      5.000000    84.990000      17.680000   \n",
       "max         30000.000000      5.000000  1050.000000     185.730000   \n",
       "\n",
       "        payment_value    order_approved_at order_purchase_timestamp  \n",
       "count     2022.000000                 2022                     2022  \n",
       "unique            NaN                 1734                     1735  \n",
       "top               NaN  2017-03-11 18:34:44      2017-03-11 18:34:44  \n",
       "freq              NaN                   11                       11  \n",
       "mean       100.126632                  NaN                      NaN  \n",
       "std        111.499859                  NaN                      NaN  \n",
       "min          0.220000                  NaN                      NaN  \n",
       "25%         65.710000                  NaN                      NaN  \n",
       "50%         76.650000                  NaN                      NaN  \n",
       "75%        106.380000                  NaN                      NaN  \n",
       "max       1525.780000                  NaN                      NaN  "
      ]
     },
     "execution_count": 21,
     "metadata": {},
     "output_type": "execute_result"
    }
   ],
   "source": [
    "csv.describe(include='all')"
   ]
  },
  {
   "cell_type": "markdown",
   "metadata": {},
   "source": [
    "## ``.dtypes`` – Returns data types of all columns"
   ]
  },
  {
   "cell_type": "code",
   "execution_count": 22,
   "metadata": {},
   "outputs": [
    {
     "data": {
      "text/plain": [
       "order_id                     object\n",
       "customer_state               object\n",
       "product_category_name        object\n",
       "product_weight_g            float64\n",
       "review_score                  int64\n",
       "price                       float64\n",
       "freight_value               float64\n",
       "payment_value               float64\n",
       "order_approved_at            object\n",
       "order_purchase_timestamp     object\n",
       "dtype: object"
      ]
     },
     "execution_count": 22,
     "metadata": {},
     "output_type": "execute_result"
    }
   ],
   "source": [
    "csv.dtypes"
   ]
  },
  {
   "cell_type": "markdown",
   "metadata": {},
   "source": [
    "## ``.index`` – Returns the index (row labels) of the DataFrame"
   ]
  },
  {
   "cell_type": "code",
   "execution_count": 23,
   "metadata": {},
   "outputs": [
    {
     "data": {
      "text/plain": [
       "RangeIndex(start=0, stop=2022, step=1)"
      ]
     },
     "execution_count": 23,
     "metadata": {},
     "output_type": "execute_result"
    }
   ],
   "source": [
    "csv.index"
   ]
  },
  {
   "cell_type": "markdown",
   "metadata": {},
   "source": [
    "## ``.value_counts()`` – Counts unique values in a column"
   ]
  },
  {
   "cell_type": "code",
   "execution_count": 24,
   "metadata": {},
   "outputs": [
    {
     "data": {
      "text/plain": [
       "order_id                          customer_state  product_category_name   product_weight_g  review_score  price  freight_value  payment_value  order_approved_at    order_purchase_timestamp\n",
       "2f839b79d9954ebfedeeba654f0f3de8  SP              telefonia               150.0             5             7.00   7.39           71.95          2018-03-26 14:50:21  2018-03-26 14:40:10         5\n",
       "8a8bd4a338e17ace44431e99a2add1d2  DF              dvds_blu_ray            2150.0            5             83.99  18.17          20.00          2018-05-15 21:54:02  2018-05-15 21:31:55         5\n",
       "58346246ea802a21cb34124ed2326770  SP              perfumaria              200.0             5             44.99  7.58           210.28         2018-07-11 17:25:53  2018-07-11 17:17:37         4\n",
       "05fcd933547be81890bc4d62357fdf3f  SP              informatica_acessorios  300.0             1             89.90  12.13          408.12         2017-07-19 10:30:13  2017-07-19 10:17:34         4\n",
       "84ddfd4c559558c53b5a4c6765e49be8  SP              utilidades_domesticas   250.0             1             5.90   7.39           53.16          2018-08-09 21:44:52  2018-08-09 21:31:52         4\n",
       "                                                                                                                                                                                               ..\n",
       "55ff9b1565b988a5125bc8f70a9df367  SP              perfumaria              350.0             4             56.99  8.72           65.71          2017-10-20 13:28:06  2017-10-20 13:10:04         1\n",
       "55f8a030ae34836632355176608c7314  SP              telefonia               150.0             1             19.90  7.11           125.44         2018-01-22 15:13:00  2018-01-22 14:55:18         1\n",
       "55f2d8cb4b644ca9cc2da77732fd1117  RJ              cool_stuff              650.0             4             49.40  9.94           59.34          2017-10-15 14:14:18  2017-10-15 13:56:49         1\n",
       "55d18e6e778d8bbc28aff36ab14104ba  SP              perfumaria              200.0             5             53.99  7.78           61.77          2017-11-28 22:31:34  2017-11-28 21:58:05         1\n",
       "ff92fd3088a85112214acbc08d72afbf  SP              livros_tecnicos         950.0             5             57.89  11.15          69.04          2018-05-22 20:37:13  2018-05-22 20:17:56         1\n",
       "Name: count, Length: 1885, dtype: int64"
      ]
     },
     "execution_count": 24,
     "metadata": {},
     "output_type": "execute_result"
    }
   ],
   "source": [
    "csv.value_counts()"
   ]
  },
  {
   "cell_type": "markdown",
   "metadata": {},
   "source": [
    "Il metodo `.value_counts()` in Pandas è utilizzato per ottenere una distribuzione delle occorrenze uniche dei valori in una Serie (o in una colonna di un DataFrame). È molto utile per esplorare i dati categorici o per comprendere la distribuzione dei valori in una colonna.\n",
    "\n",
    "#### Principali Parametri di `.value_counts()`\n",
    "\n",
    "1. **`normalize`**: Se impostato a `True`, restituisce le frequenze relative dei valori invece dei conteggi assoluti.\n",
    "    - *Tipo*: booleano (`True` o `False`).\n",
    "    - *Valore predefinito*: `False`.\n",
    "2. **`sort`**: Specifica se ordinare i risultati in base ai conteggi (in ordine decrescente). Se impostato a `False`, non ordina i valori.\n",
    "    - *Tipo*: booleano (`True` o `False`).\n",
    "    - *Valore predefinito*: `True`.\n",
    "3. **`ascending`**: Se impostato a `True`, ordina i risultati in ordine crescente.\n",
    "    - *Tipo*: booleano (`True` o `False`).\n",
    "    - *Valore predefinito*: `False`.\n",
    "4. **`bins`**: Consente di suddividere i dati numerici in intervalli (binning).\n",
    "    - *Tipo*: intero.\n",
    "    - *Valore predefinito*: `None`.\n",
    "5. **`dropna`**: Se impostato a `False`, include i valori `NaN` nel conteggio.\n",
    "    - *Tipo*: booleano (`True` o `False`).\n",
    "    - *Valore predefinito*: `True`."
   ]
  },
  {
   "cell_type": "code",
   "execution_count": 25,
   "metadata": {},
   "outputs": [
    {
     "data": {
      "text/plain": [
       "customer_state\n",
       "SP    0.419881\n",
       "MG    0.124135\n",
       "RJ    0.112760\n",
       "RS    0.048467\n",
       "BA    0.044510\n",
       "Name: proportion, dtype: float64"
      ]
     },
     "execution_count": 25,
     "metadata": {},
     "output_type": "execute_result"
    }
   ],
   "source": [
    "csv.value_counts('customer_state', normalize=True).head(5)"
   ]
  },
  {
   "cell_type": "code",
   "execution_count": 26,
   "metadata": {},
   "outputs": [
    {
     "data": {
      "text/plain": [
       "customer_state\n",
       "AC    1\n",
       "RR    2\n",
       "AP    3\n",
       "TO    3\n",
       "SE    5\n",
       "Name: count, dtype: int64"
      ]
     },
     "execution_count": 26,
     "metadata": {},
     "output_type": "execute_result"
    }
   ],
   "source": [
    "csv.value_counts('customer_state', ascending=True).head()"
   ]
  },
  {
   "cell_type": "code",
   "execution_count": 27,
   "metadata": {},
   "outputs": [
    {
     "data": {
      "text/plain": [
       "customer_state\n",
       "SP    849\n",
       "MG    251\n",
       "RJ    228\n",
       "RS     98\n",
       "BA     90\n",
       "Name: count, dtype: int64"
      ]
     },
     "execution_count": 27,
     "metadata": {},
     "output_type": "execute_result"
    }
   ],
   "source": [
    "csv.value_counts('customer_state', dropna=False).head()"
   ]
  },
  {
   "cell_type": "code",
   "execution_count": 28,
   "metadata": {},
   "outputs": [
    {
     "data": {
      "text/plain": [
       "(1.9420000000000002, 351.993]    2007\n",
       "(351.993, 700.997]                 10\n",
       "(700.997, 1050.0]                   5\n",
       "Name: count, dtype: int64"
      ]
     },
     "execution_count": 28,
     "metadata": {},
     "output_type": "execute_result"
    }
   ],
   "source": [
    "csv['price'].value_counts(bins=3)"
   ]
  },
  {
   "cell_type": "markdown",
   "metadata": {},
   "source": [
    "## ``.isnull() / .notnull()`` – Checks for missing values"
   ]
  },
  {
   "cell_type": "markdown",
   "metadata": {},
   "source": [
    "I metodi `.isnull()` e `.notnull()` in Pandas sono utilizzati per identificare i valori mancanti (o nulli) in un DataFrame o una Serie. Entrambi i metodi restituiscono un oggetto della stessa forma con valori booleani (`True` o `False`), che indicano rispettivamente la presenza o l'assenza di valori nulli.\n",
    "\n",
    "#### `.isnull()`\n",
    "\n",
    "Questo metodo identifica i valori `NaN` (Not a Number) o `None` come `True` e gli altri valori come `False`.\n",
    "\n",
    "#### Esempio di utilizzo di `.isnull()`"
   ]
  },
  {
   "cell_type": "code",
   "execution_count": 29,
   "metadata": {},
   "outputs": [
    {
     "data": {
      "text/html": [
       "<div>\n",
       "<style scoped>\n",
       "    .dataframe tbody tr th:only-of-type {\n",
       "        vertical-align: middle;\n",
       "    }\n",
       "\n",
       "    .dataframe tbody tr th {\n",
       "        vertical-align: top;\n",
       "    }\n",
       "\n",
       "    .dataframe thead th {\n",
       "        text-align: right;\n",
       "    }\n",
       "</style>\n",
       "<table border=\"1\" class=\"dataframe\">\n",
       "  <thead>\n",
       "    <tr style=\"text-align: right;\">\n",
       "      <th></th>\n",
       "      <th>order_id</th>\n",
       "      <th>customer_state</th>\n",
       "      <th>product_category_name</th>\n",
       "      <th>product_weight_g</th>\n",
       "      <th>review_score</th>\n",
       "      <th>price</th>\n",
       "      <th>freight_value</th>\n",
       "      <th>payment_value</th>\n",
       "      <th>order_approved_at</th>\n",
       "      <th>order_purchase_timestamp</th>\n",
       "    </tr>\n",
       "  </thead>\n",
       "  <tbody>\n",
       "    <tr>\n",
       "      <th>0</th>\n",
       "      <td>False</td>\n",
       "      <td>False</td>\n",
       "      <td>False</td>\n",
       "      <td>False</td>\n",
       "      <td>False</td>\n",
       "      <td>False</td>\n",
       "      <td>False</td>\n",
       "      <td>False</td>\n",
       "      <td>False</td>\n",
       "      <td>False</td>\n",
       "    </tr>\n",
       "    <tr>\n",
       "      <th>1</th>\n",
       "      <td>False</td>\n",
       "      <td>False</td>\n",
       "      <td>False</td>\n",
       "      <td>False</td>\n",
       "      <td>False</td>\n",
       "      <td>False</td>\n",
       "      <td>False</td>\n",
       "      <td>False</td>\n",
       "      <td>False</td>\n",
       "      <td>False</td>\n",
       "    </tr>\n",
       "    <tr>\n",
       "      <th>2</th>\n",
       "      <td>False</td>\n",
       "      <td>False</td>\n",
       "      <td>False</td>\n",
       "      <td>False</td>\n",
       "      <td>False</td>\n",
       "      <td>False</td>\n",
       "      <td>False</td>\n",
       "      <td>False</td>\n",
       "      <td>False</td>\n",
       "      <td>False</td>\n",
       "    </tr>\n",
       "    <tr>\n",
       "      <th>3</th>\n",
       "      <td>False</td>\n",
       "      <td>False</td>\n",
       "      <td>False</td>\n",
       "      <td>False</td>\n",
       "      <td>False</td>\n",
       "      <td>False</td>\n",
       "      <td>False</td>\n",
       "      <td>False</td>\n",
       "      <td>False</td>\n",
       "      <td>False</td>\n",
       "    </tr>\n",
       "    <tr>\n",
       "      <th>4</th>\n",
       "      <td>False</td>\n",
       "      <td>False</td>\n",
       "      <td>False</td>\n",
       "      <td>False</td>\n",
       "      <td>False</td>\n",
       "      <td>False</td>\n",
       "      <td>False</td>\n",
       "      <td>False</td>\n",
       "      <td>False</td>\n",
       "      <td>False</td>\n",
       "    </tr>\n",
       "    <tr>\n",
       "      <th>...</th>\n",
       "      <td>...</td>\n",
       "      <td>...</td>\n",
       "      <td>...</td>\n",
       "      <td>...</td>\n",
       "      <td>...</td>\n",
       "      <td>...</td>\n",
       "      <td>...</td>\n",
       "      <td>...</td>\n",
       "      <td>...</td>\n",
       "      <td>...</td>\n",
       "    </tr>\n",
       "    <tr>\n",
       "      <th>2017</th>\n",
       "      <td>False</td>\n",
       "      <td>False</td>\n",
       "      <td>False</td>\n",
       "      <td>False</td>\n",
       "      <td>False</td>\n",
       "      <td>False</td>\n",
       "      <td>False</td>\n",
       "      <td>False</td>\n",
       "      <td>False</td>\n",
       "      <td>False</td>\n",
       "    </tr>\n",
       "    <tr>\n",
       "      <th>2018</th>\n",
       "      <td>False</td>\n",
       "      <td>False</td>\n",
       "      <td>False</td>\n",
       "      <td>False</td>\n",
       "      <td>False</td>\n",
       "      <td>False</td>\n",
       "      <td>False</td>\n",
       "      <td>False</td>\n",
       "      <td>False</td>\n",
       "      <td>False</td>\n",
       "    </tr>\n",
       "    <tr>\n",
       "      <th>2019</th>\n",
       "      <td>False</td>\n",
       "      <td>False</td>\n",
       "      <td>False</td>\n",
       "      <td>False</td>\n",
       "      <td>False</td>\n",
       "      <td>False</td>\n",
       "      <td>False</td>\n",
       "      <td>False</td>\n",
       "      <td>False</td>\n",
       "      <td>False</td>\n",
       "    </tr>\n",
       "    <tr>\n",
       "      <th>2020</th>\n",
       "      <td>False</td>\n",
       "      <td>False</td>\n",
       "      <td>False</td>\n",
       "      <td>False</td>\n",
       "      <td>False</td>\n",
       "      <td>False</td>\n",
       "      <td>False</td>\n",
       "      <td>False</td>\n",
       "      <td>False</td>\n",
       "      <td>False</td>\n",
       "    </tr>\n",
       "    <tr>\n",
       "      <th>2021</th>\n",
       "      <td>False</td>\n",
       "      <td>False</td>\n",
       "      <td>False</td>\n",
       "      <td>False</td>\n",
       "      <td>False</td>\n",
       "      <td>False</td>\n",
       "      <td>False</td>\n",
       "      <td>False</td>\n",
       "      <td>False</td>\n",
       "      <td>False</td>\n",
       "    </tr>\n",
       "  </tbody>\n",
       "</table>\n",
       "<p>2022 rows × 10 columns</p>\n",
       "</div>"
      ],
      "text/plain": [
       "      order_id  customer_state  product_category_name  product_weight_g  \\\n",
       "0        False           False                  False             False   \n",
       "1        False           False                  False             False   \n",
       "2        False           False                  False             False   \n",
       "3        False           False                  False             False   \n",
       "4        False           False                  False             False   \n",
       "...        ...             ...                    ...               ...   \n",
       "2017     False           False                  False             False   \n",
       "2018     False           False                  False             False   \n",
       "2019     False           False                  False             False   \n",
       "2020     False           False                  False             False   \n",
       "2021     False           False                  False             False   \n",
       "\n",
       "      review_score  price  freight_value  payment_value  order_approved_at  \\\n",
       "0            False  False          False          False              False   \n",
       "1            False  False          False          False              False   \n",
       "2            False  False          False          False              False   \n",
       "3            False  False          False          False              False   \n",
       "4            False  False          False          False              False   \n",
       "...            ...    ...            ...            ...                ...   \n",
       "2017         False  False          False          False              False   \n",
       "2018         False  False          False          False              False   \n",
       "2019         False  False          False          False              False   \n",
       "2020         False  False          False          False              False   \n",
       "2021         False  False          False          False              False   \n",
       "\n",
       "      order_purchase_timestamp  \n",
       "0                        False  \n",
       "1                        False  \n",
       "2                        False  \n",
       "3                        False  \n",
       "4                        False  \n",
       "...                        ...  \n",
       "2017                     False  \n",
       "2018                     False  \n",
       "2019                     False  \n",
       "2020                     False  \n",
       "2021                     False  \n",
       "\n",
       "[2022 rows x 10 columns]"
      ]
     },
     "execution_count": 29,
     "metadata": {},
     "output_type": "execute_result"
    }
   ],
   "source": [
    "csv.isnull()"
   ]
  },
  {
   "cell_type": "markdown",
   "metadata": {},
   "source": [
    "- I `True` indicano la presenza di valori mancanti (nulli).\n",
    "\n",
    "#### Uso comune: Conteggio dei Valori Nulli\n",
    "\n",
    "Puoi usare `.isnull().sum()` per contare il numero di valori nulli in ogni colonna."
   ]
  },
  {
   "cell_type": "code",
   "execution_count": 30,
   "metadata": {},
   "outputs": [
    {
     "data": {
      "text/plain": [
       "order_id                    0\n",
       "customer_state              0\n",
       "product_category_name       0\n",
       "product_weight_g            0\n",
       "review_score                0\n",
       "price                       0\n",
       "freight_value               0\n",
       "payment_value               0\n",
       "order_approved_at           0\n",
       "order_purchase_timestamp    0\n",
       "dtype: int64"
      ]
     },
     "execution_count": 30,
     "metadata": {},
     "output_type": "execute_result"
    }
   ],
   "source": [
    "csv.isnull().sum()"
   ]
  },
  {
   "cell_type": "markdown",
   "metadata": {},
   "source": [
    "## `.notnull()`\n",
    "\n",
    "Questo metodo è l'opposto di `.isnull()`, identificando i valori **non nulli** (ossia `NaN` e `None` sono marcati come `False`, mentre gli altri valori come `True`).\n",
    "\n",
    "#### Esempio di utilizzo di `.notnull()`"
   ]
  },
  {
   "cell_type": "code",
   "execution_count": 31,
   "metadata": {},
   "outputs": [
    {
     "data": {
      "text/html": [
       "<div>\n",
       "<style scoped>\n",
       "    .dataframe tbody tr th:only-of-type {\n",
       "        vertical-align: middle;\n",
       "    }\n",
       "\n",
       "    .dataframe tbody tr th {\n",
       "        vertical-align: top;\n",
       "    }\n",
       "\n",
       "    .dataframe thead th {\n",
       "        text-align: right;\n",
       "    }\n",
       "</style>\n",
       "<table border=\"1\" class=\"dataframe\">\n",
       "  <thead>\n",
       "    <tr style=\"text-align: right;\">\n",
       "      <th></th>\n",
       "      <th>order_id</th>\n",
       "      <th>customer_state</th>\n",
       "      <th>product_category_name</th>\n",
       "      <th>product_weight_g</th>\n",
       "      <th>review_score</th>\n",
       "      <th>price</th>\n",
       "      <th>freight_value</th>\n",
       "      <th>payment_value</th>\n",
       "      <th>order_approved_at</th>\n",
       "      <th>order_purchase_timestamp</th>\n",
       "    </tr>\n",
       "  </thead>\n",
       "  <tbody>\n",
       "    <tr>\n",
       "      <th>0</th>\n",
       "      <td>True</td>\n",
       "      <td>True</td>\n",
       "      <td>True</td>\n",
       "      <td>True</td>\n",
       "      <td>True</td>\n",
       "      <td>True</td>\n",
       "      <td>True</td>\n",
       "      <td>True</td>\n",
       "      <td>True</td>\n",
       "      <td>True</td>\n",
       "    </tr>\n",
       "    <tr>\n",
       "      <th>1</th>\n",
       "      <td>True</td>\n",
       "      <td>True</td>\n",
       "      <td>True</td>\n",
       "      <td>True</td>\n",
       "      <td>True</td>\n",
       "      <td>True</td>\n",
       "      <td>True</td>\n",
       "      <td>True</td>\n",
       "      <td>True</td>\n",
       "      <td>True</td>\n",
       "    </tr>\n",
       "    <tr>\n",
       "      <th>2</th>\n",
       "      <td>True</td>\n",
       "      <td>True</td>\n",
       "      <td>True</td>\n",
       "      <td>True</td>\n",
       "      <td>True</td>\n",
       "      <td>True</td>\n",
       "      <td>True</td>\n",
       "      <td>True</td>\n",
       "      <td>True</td>\n",
       "      <td>True</td>\n",
       "    </tr>\n",
       "    <tr>\n",
       "      <th>3</th>\n",
       "      <td>True</td>\n",
       "      <td>True</td>\n",
       "      <td>True</td>\n",
       "      <td>True</td>\n",
       "      <td>True</td>\n",
       "      <td>True</td>\n",
       "      <td>True</td>\n",
       "      <td>True</td>\n",
       "      <td>True</td>\n",
       "      <td>True</td>\n",
       "    </tr>\n",
       "    <tr>\n",
       "      <th>4</th>\n",
       "      <td>True</td>\n",
       "      <td>True</td>\n",
       "      <td>True</td>\n",
       "      <td>True</td>\n",
       "      <td>True</td>\n",
       "      <td>True</td>\n",
       "      <td>True</td>\n",
       "      <td>True</td>\n",
       "      <td>True</td>\n",
       "      <td>True</td>\n",
       "    </tr>\n",
       "    <tr>\n",
       "      <th>...</th>\n",
       "      <td>...</td>\n",
       "      <td>...</td>\n",
       "      <td>...</td>\n",
       "      <td>...</td>\n",
       "      <td>...</td>\n",
       "      <td>...</td>\n",
       "      <td>...</td>\n",
       "      <td>...</td>\n",
       "      <td>...</td>\n",
       "      <td>...</td>\n",
       "    </tr>\n",
       "    <tr>\n",
       "      <th>2017</th>\n",
       "      <td>True</td>\n",
       "      <td>True</td>\n",
       "      <td>True</td>\n",
       "      <td>True</td>\n",
       "      <td>True</td>\n",
       "      <td>True</td>\n",
       "      <td>True</td>\n",
       "      <td>True</td>\n",
       "      <td>True</td>\n",
       "      <td>True</td>\n",
       "    </tr>\n",
       "    <tr>\n",
       "      <th>2018</th>\n",
       "      <td>True</td>\n",
       "      <td>True</td>\n",
       "      <td>True</td>\n",
       "      <td>True</td>\n",
       "      <td>True</td>\n",
       "      <td>True</td>\n",
       "      <td>True</td>\n",
       "      <td>True</td>\n",
       "      <td>True</td>\n",
       "      <td>True</td>\n",
       "    </tr>\n",
       "    <tr>\n",
       "      <th>2019</th>\n",
       "      <td>True</td>\n",
       "      <td>True</td>\n",
       "      <td>True</td>\n",
       "      <td>True</td>\n",
       "      <td>True</td>\n",
       "      <td>True</td>\n",
       "      <td>True</td>\n",
       "      <td>True</td>\n",
       "      <td>True</td>\n",
       "      <td>True</td>\n",
       "    </tr>\n",
       "    <tr>\n",
       "      <th>2020</th>\n",
       "      <td>True</td>\n",
       "      <td>True</td>\n",
       "      <td>True</td>\n",
       "      <td>True</td>\n",
       "      <td>True</td>\n",
       "      <td>True</td>\n",
       "      <td>True</td>\n",
       "      <td>True</td>\n",
       "      <td>True</td>\n",
       "      <td>True</td>\n",
       "    </tr>\n",
       "    <tr>\n",
       "      <th>2021</th>\n",
       "      <td>True</td>\n",
       "      <td>True</td>\n",
       "      <td>True</td>\n",
       "      <td>True</td>\n",
       "      <td>True</td>\n",
       "      <td>True</td>\n",
       "      <td>True</td>\n",
       "      <td>True</td>\n",
       "      <td>True</td>\n",
       "      <td>True</td>\n",
       "    </tr>\n",
       "  </tbody>\n",
       "</table>\n",
       "<p>2022 rows × 10 columns</p>\n",
       "</div>"
      ],
      "text/plain": [
       "      order_id  customer_state  product_category_name  product_weight_g  \\\n",
       "0         True            True                   True              True   \n",
       "1         True            True                   True              True   \n",
       "2         True            True                   True              True   \n",
       "3         True            True                   True              True   \n",
       "4         True            True                   True              True   \n",
       "...        ...             ...                    ...               ...   \n",
       "2017      True            True                   True              True   \n",
       "2018      True            True                   True              True   \n",
       "2019      True            True                   True              True   \n",
       "2020      True            True                   True              True   \n",
       "2021      True            True                   True              True   \n",
       "\n",
       "      review_score  price  freight_value  payment_value  order_approved_at  \\\n",
       "0             True   True           True           True               True   \n",
       "1             True   True           True           True               True   \n",
       "2             True   True           True           True               True   \n",
       "3             True   True           True           True               True   \n",
       "4             True   True           True           True               True   \n",
       "...            ...    ...            ...            ...                ...   \n",
       "2017          True   True           True           True               True   \n",
       "2018          True   True           True           True               True   \n",
       "2019          True   True           True           True               True   \n",
       "2020          True   True           True           True               True   \n",
       "2021          True   True           True           True               True   \n",
       "\n",
       "      order_purchase_timestamp  \n",
       "0                         True  \n",
       "1                         True  \n",
       "2                         True  \n",
       "3                         True  \n",
       "4                         True  \n",
       "...                        ...  \n",
       "2017                      True  \n",
       "2018                      True  \n",
       "2019                      True  \n",
       "2020                      True  \n",
       "2021                      True  \n",
       "\n",
       "[2022 rows x 10 columns]"
      ]
     },
     "execution_count": 31,
     "metadata": {},
     "output_type": "execute_result"
    }
   ],
   "source": [
    "csv.notnull()"
   ]
  },
  {
   "cell_type": "markdown",
   "metadata": {},
   "source": [
    "- I `True` indicano la presenza di valori **non** nulli.\n",
    "\n",
    "#### Esempi pratici"
   ]
  },
  {
   "cell_type": "markdown",
   "metadata": {},
   "source": [
    "1. **Filtrare i valori non nulli in una colonna**"
   ]
  },
  {
   "cell_type": "code",
   "execution_count": 32,
   "metadata": {},
   "outputs": [
    {
     "data": {
      "text/html": [
       "<div>\n",
       "<style scoped>\n",
       "    .dataframe tbody tr th:only-of-type {\n",
       "        vertical-align: middle;\n",
       "    }\n",
       "\n",
       "    .dataframe tbody tr th {\n",
       "        vertical-align: top;\n",
       "    }\n",
       "\n",
       "    .dataframe thead th {\n",
       "        text-align: right;\n",
       "    }\n",
       "</style>\n",
       "<table border=\"1\" class=\"dataframe\">\n",
       "  <thead>\n",
       "    <tr style=\"text-align: right;\">\n",
       "      <th></th>\n",
       "      <th>order_id</th>\n",
       "      <th>customer_state</th>\n",
       "      <th>product_category_name</th>\n",
       "      <th>product_weight_g</th>\n",
       "      <th>review_score</th>\n",
       "      <th>price</th>\n",
       "      <th>freight_value</th>\n",
       "      <th>payment_value</th>\n",
       "      <th>order_approved_at</th>\n",
       "      <th>order_purchase_timestamp</th>\n",
       "    </tr>\n",
       "  </thead>\n",
       "  <tbody>\n",
       "    <tr>\n",
       "      <th>0</th>\n",
       "      <td>00010242fe8c5a6d1ba2dd792cb16214</td>\n",
       "      <td>RJ</td>\n",
       "      <td>cool_stuff</td>\n",
       "      <td>650.0</td>\n",
       "      <td>5</td>\n",
       "      <td>58.9</td>\n",
       "      <td>13.29</td>\n",
       "      <td>72.19</td>\n",
       "      <td>2017-09-13 09:45:35</td>\n",
       "      <td>2017-09-13 08:59:02</td>\n",
       "    </tr>\n",
       "    <tr>\n",
       "      <th>1</th>\n",
       "      <td>130898c0987d1801452a8ed92a670612</td>\n",
       "      <td>GO</td>\n",
       "      <td>cool_stuff</td>\n",
       "      <td>650.0</td>\n",
       "      <td>5</td>\n",
       "      <td>55.9</td>\n",
       "      <td>17.96</td>\n",
       "      <td>73.86</td>\n",
       "      <td>2017-06-29 02:44:11</td>\n",
       "      <td>2017-06-28 11:52:20</td>\n",
       "    </tr>\n",
       "    <tr>\n",
       "      <th>2</th>\n",
       "      <td>532ed5e14e24ae1f0d735b91524b98b9</td>\n",
       "      <td>MG</td>\n",
       "      <td>cool_stuff</td>\n",
       "      <td>650.0</td>\n",
       "      <td>4</td>\n",
       "      <td>64.9</td>\n",
       "      <td>18.33</td>\n",
       "      <td>83.23</td>\n",
       "      <td>2018-05-18 12:31:43</td>\n",
       "      <td>2018-05-18 10:25:53</td>\n",
       "    </tr>\n",
       "    <tr>\n",
       "      <th>3</th>\n",
       "      <td>6f8c31653edb8c83e1a739408b5ff750</td>\n",
       "      <td>PR</td>\n",
       "      <td>cool_stuff</td>\n",
       "      <td>650.0</td>\n",
       "      <td>5</td>\n",
       "      <td>58.9</td>\n",
       "      <td>16.17</td>\n",
       "      <td>75.07</td>\n",
       "      <td>2017-08-01 18:55:08</td>\n",
       "      <td>2017-08-01 18:38:42</td>\n",
       "    </tr>\n",
       "    <tr>\n",
       "      <th>4</th>\n",
       "      <td>7d19f4ef4d04461989632411b7e588b9</td>\n",
       "      <td>MG</td>\n",
       "      <td>cool_stuff</td>\n",
       "      <td>650.0</td>\n",
       "      <td>5</td>\n",
       "      <td>58.9</td>\n",
       "      <td>13.29</td>\n",
       "      <td>72.19</td>\n",
       "      <td>2017-08-10 22:05:11</td>\n",
       "      <td>2017-08-10 21:48:40</td>\n",
       "    </tr>\n",
       "  </tbody>\n",
       "</table>\n",
       "</div>"
      ],
      "text/plain": [
       "                           order_id customer_state product_category_name  \\\n",
       "0  00010242fe8c5a6d1ba2dd792cb16214             RJ            cool_stuff   \n",
       "1  130898c0987d1801452a8ed92a670612             GO            cool_stuff   \n",
       "2  532ed5e14e24ae1f0d735b91524b98b9             MG            cool_stuff   \n",
       "3  6f8c31653edb8c83e1a739408b5ff750             PR            cool_stuff   \n",
       "4  7d19f4ef4d04461989632411b7e588b9             MG            cool_stuff   \n",
       "\n",
       "   product_weight_g  review_score  price  freight_value  payment_value  \\\n",
       "0             650.0             5   58.9          13.29          72.19   \n",
       "1             650.0             5   55.9          17.96          73.86   \n",
       "2             650.0             4   64.9          18.33          83.23   \n",
       "3             650.0             5   58.9          16.17          75.07   \n",
       "4             650.0             5   58.9          13.29          72.19   \n",
       "\n",
       "     order_approved_at order_purchase_timestamp  \n",
       "0  2017-09-13 09:45:35      2017-09-13 08:59:02  \n",
       "1  2017-06-29 02:44:11      2017-06-28 11:52:20  \n",
       "2  2018-05-18 12:31:43      2018-05-18 10:25:53  \n",
       "3  2017-08-01 18:55:08      2017-08-01 18:38:42  \n",
       "4  2017-08-10 22:05:11      2017-08-10 21:48:40  "
      ]
     },
     "execution_count": 32,
     "metadata": {},
     "output_type": "execute_result"
    }
   ],
   "source": [
    "df_non_null = csv[csv['product_category_name'].notnull()]\n",
    "df_non_null.head()"
   ]
  },
  {
   "cell_type": "markdown",
   "metadata": {},
   "source": [
    "2. **Verificare se ci sono valori nulli nel DataFrame**"
   ]
  },
  {
   "cell_type": "code",
   "execution_count": 33,
   "metadata": {},
   "outputs": [
    {
     "data": {
      "text/plain": [
       "False"
      ]
     },
     "execution_count": 33,
     "metadata": {},
     "output_type": "execute_result"
    }
   ],
   "source": [
    "csv.isnull().values.any()"
   ]
  },
  {
   "cell_type": "markdown",
   "metadata": {},
   "source": [
    "3. **Contare i valori non nulli in ogni colonna**"
   ]
  },
  {
   "cell_type": "code",
   "execution_count": 34,
   "metadata": {},
   "outputs": [
    {
     "data": {
      "text/plain": [
       "order_id                    2022\n",
       "customer_state              2022\n",
       "product_category_name       2022\n",
       "product_weight_g            2022\n",
       "review_score                2022\n",
       "price                       2022\n",
       "freight_value               2022\n",
       "payment_value               2022\n",
       "order_approved_at           2022\n",
       "order_purchase_timestamp    2022\n",
       "dtype: int64"
      ]
     },
     "execution_count": 34,
     "metadata": {},
     "output_type": "execute_result"
    }
   ],
   "source": [
    "csv.notnull().sum()"
   ]
  },
  {
   "cell_type": "markdown",
   "metadata": {},
   "source": [
    "#### Differenza tra i due\n",
    "\n",
    "- **`.isnull()`**: Restituisce `True` per i valori nulli.\n",
    "- **`.notnull()`**: Restituisce `True` per i valori **non** nulli.\n",
    "\n",
    "Questi metodi sono molto utili per gestire i valori mancanti nei dataset, una parte essenziale dell'analisi dei dati e della pulizia dei dati. Se hai altre domande, sono qui per aiutarti!"
   ]
  },
  {
   "cell_type": "markdown",
   "metadata": {},
   "source": [
    "## ``.duplicated()`` – Checks for duplicate rows"
   ]
  },
  {
   "cell_type": "markdown",
   "metadata": {},
   "source": [
    "Il metodo `.duplicated()` in Pandas è utilizzato per identificare le righe duplicate in un DataFrame o gli elementi duplicati in una Serie. Restituisce una Serie di valori booleani in cui `True` indica che una riga o un elemento è un duplicato di una precedente e `False` indica che non lo è.\n",
    "\n",
    "#### Principali Parametri di `.duplicated()`\n",
    "\n",
    "1. **`subset`**: Specifica le colonne su cui controllare i duplicati. Se non viene specificato, il controllo viene eseguito su tutte le colonne.\n",
    "    - *Tipo*: lista di stringhe (nomi di colonne).\n",
    "    - *Valore predefinito*: `None`.\n",
    "2. **`keep`**: Determina quale duplicato (se ce ne sono) contrassegnare come `True`.\n",
    "    - `\"first\"`: Marca tutte le duplicazioni successive come `True`, mantenendo il primo valore come unico (`False`).\n",
    "    - `\"last\"`: Marca tutte le duplicazioni precedenti come `True`, mantenendo l'ultimo valore come unico (`False`).\n",
    "    - `False`: Marca **tutti** i duplicati come `True`.\n",
    "    - *Valore predefinito*: `\"first\"`.\n",
    "\n",
    "#### Esempio di Utilizzo di `.duplicated()`\n",
    "\n",
    "#### Esempio 1: Identificare le righe duplicate in un DataFrame"
   ]
  },
  {
   "cell_type": "code",
   "execution_count": 35,
   "metadata": {},
   "outputs": [
    {
     "data": {
      "text/plain": [
       "0       False\n",
       "1       False\n",
       "2       False\n",
       "3       False\n",
       "4       False\n",
       "        ...  \n",
       "2017    False\n",
       "2018    False\n",
       "2019     True\n",
       "2020    False\n",
       "2021    False\n",
       "Length: 2022, dtype: bool"
      ]
     },
     "execution_count": 35,
     "metadata": {},
     "output_type": "execute_result"
    }
   ],
   "source": [
    "csv.duplicated()"
   ]
  },
  {
   "cell_type": "markdown",
   "metadata": {},
   "source": [
    "#### Esempio 2: Utilizzare il parametro `keep`"
   ]
  },
  {
   "cell_type": "code",
   "execution_count": 36,
   "metadata": {},
   "outputs": [
    {
     "data": {
      "text/plain": [
       "0       False\n",
       "1       False\n",
       "2       False\n",
       "3       False\n",
       "4       False\n",
       "        ...  \n",
       "2017    False\n",
       "2018     True\n",
       "2019    False\n",
       "2020    False\n",
       "2021    False\n",
       "Length: 2022, dtype: bool"
      ]
     },
     "execution_count": 36,
     "metadata": {},
     "output_type": "execute_result"
    }
   ],
   "source": [
    "# Mantenere solo l'ultima occorrenza come unica\n",
    "csv.duplicated(keep='last')"
   ]
  },
  {
   "cell_type": "markdown",
   "metadata": {},
   "source": [
    "- In questo caso, vengono mantenute le ultime occorrenze e le precedenti vengono considerate duplicate.\n",
    "\n",
    "#### Esempio 3: Identificare i duplicati basandosi su colonne specifiche"
   ]
  },
  {
   "cell_type": "code",
   "execution_count": 37,
   "metadata": {},
   "outputs": [
    {
     "data": {
      "text/plain": [
       "0       False\n",
       "1        True\n",
       "2        True\n",
       "3        True\n",
       "4        True\n",
       "        ...  \n",
       "2017     True\n",
       "2018     True\n",
       "2019     True\n",
       "2020     True\n",
       "2021     True\n",
       "Length: 2022, dtype: bool"
      ]
     },
     "execution_count": 37,
     "metadata": {},
     "output_type": "execute_result"
    }
   ],
   "source": [
    "csv.duplicated(subset='product_category_name')"
   ]
  },
  {
   "cell_type": "markdown",
   "metadata": {},
   "source": [
    "#### Esempio 4: Marcatura di **tutti** i duplicati"
   ]
  },
  {
   "cell_type": "code",
   "execution_count": 38,
   "metadata": {},
   "outputs": [
    {
     "data": {
      "text/plain": [
       "0       False\n",
       "1       False\n",
       "2       False\n",
       "3       False\n",
       "4       False\n",
       "        ...  \n",
       "2017    False\n",
       "2018     True\n",
       "2019     True\n",
       "2020    False\n",
       "2021    False\n",
       "Length: 2022, dtype: bool"
      ]
     },
     "execution_count": 38,
     "metadata": {},
     "output_type": "execute_result"
    }
   ],
   "source": [
    "csv.duplicated(keep=False)"
   ]
  },
  {
   "cell_type": "markdown",
   "metadata": {},
   "source": [
    "##### `.duplicated()`"
   ]
  },
  {
   "cell_type": "code",
   "execution_count": 39,
   "metadata": {},
   "outputs": [],
   "source": [
    "df_unique = csv.drop_duplicates()"
   ]
  },
  {
   "cell_type": "markdown",
   "metadata": {},
   "source": [
    "## ``.nunique()`` – Counts the number of unique values per column"
   ]
  },
  {
   "cell_type": "markdown",
   "metadata": {},
   "source": [
    "Il metodo `.nunique()` in Pandas viene utilizzato per contare il numero di valori unici (distinti) presenti in ogni colonna di un DataFrame o in una Serie. Questo è utile per avere una rapida panoramica della varietà di dati all'interno di ogni colonna.\n",
    "\n",
    "#### Principali Parametri di `.nunique()`\n",
    "\n",
    "1. **`axis`**: Specifica se contare i valori unici per colonne o per righe.\n",
    "    - *Valore predefinito*: `0` o `'index'` (conteggio dei valori unici per colonna).\n",
    "    - Se `axis=1` o `'columns'`, conta i valori unici per ogni riga.\n",
    "2. **`dropna`**: Indica se escludere (`True`) o includere (`False`) i valori mancanti (NaN) nel conteggio.\n",
    "    - *Valore predefinito*: `True` (esclude i valori mancanti).\n",
    "\n",
    "#### Esempi di Utilizzo di `.nunique()`\n",
    "\n",
    "#### Esempio 1: Contare i valori unici in un DataFrame"
   ]
  },
  {
   "cell_type": "code",
   "execution_count": 40,
   "metadata": {},
   "outputs": [
    {
     "data": {
      "text/plain": [
       "order_id                    1735\n",
       "customer_state                27\n",
       "product_category_name         21\n",
       "product_weight_g             119\n",
       "review_score                   5\n",
       "price                        229\n",
       "freight_value                572\n",
       "payment_value                902\n",
       "order_approved_at           1734\n",
       "order_purchase_timestamp    1735\n",
       "dtype: int64"
      ]
     },
     "execution_count": 40,
     "metadata": {},
     "output_type": "execute_result"
    }
   ],
   "source": [
    "csv.nunique()"
   ]
  },
  {
   "cell_type": "markdown",
   "metadata": {},
   "source": [
    "#### Esempio 2: Contare i valori unici, inclusi i valori nulli"
   ]
  },
  {
   "cell_type": "code",
   "execution_count": 41,
   "metadata": {},
   "outputs": [
    {
     "data": {
      "text/plain": [
       "order_id                    1735\n",
       "customer_state                27\n",
       "product_category_name         21\n",
       "product_weight_g             119\n",
       "review_score                   5\n",
       "price                        229\n",
       "freight_value                572\n",
       "payment_value                902\n",
       "order_approved_at           1734\n",
       "order_purchase_timestamp    1735\n",
       "dtype: int64"
      ]
     },
     "execution_count": 41,
     "metadata": {},
     "output_type": "execute_result"
    }
   ],
   "source": [
    "csv.nunique(dropna=False)"
   ]
  },
  {
   "cell_type": "markdown",
   "metadata": {},
   "source": [
    "#### Esempio 3: Contare i valori unici lungo le righe (con axis=1)"
   ]
  },
  {
   "cell_type": "code",
   "execution_count": 42,
   "metadata": {},
   "outputs": [
    {
     "data": {
      "text/plain": [
       "0       10\n",
       "1       10\n",
       "2       10\n",
       "3       10\n",
       "4       10\n",
       "        ..\n",
       "2017    10\n",
       "2018    10\n",
       "2019    10\n",
       "2020    10\n",
       "2021    10\n",
       "Length: 2022, dtype: int64"
      ]
     },
     "execution_count": 42,
     "metadata": {},
     "output_type": "execute_result"
    }
   ],
   "source": [
    "csv.nunique(axis=1)"
   ]
  },
  {
   "cell_type": "markdown",
   "metadata": {},
   "source": [
    "## ``.sample(n)`` – Randomly selects n rows from the DataFrame"
   ]
  },
  {
   "cell_type": "markdown",
   "metadata": {},
   "source": [
    "Il metodo `.sample()` in Pandas viene utilizzato per estrarre un campione casuale di righe o colonne da un DataFrame o da una Serie. Può essere utile per esplorare una parte dei dati in modo casuale o per generare un sottocampione per l'analisi.\n",
    "\n",
    "#### Principali Parametri di `.sample()`\n",
    "\n",
    "1. **`n`**: Specifica il numero di elementi (righe o colonne) da campionare.\n",
    "    - *Tipo*: intero.\n",
    "    - Non può essere utilizzato contemporaneamente con il parametro `frac`.\n",
    "2. **`frac`**: Specifica la frazione di elementi da campionare rispetto al totale.\n",
    "    - *Tipo*: float, ad esempio `frac=0.5` campiona il 50% degli elementi.\n",
    "    - Non può essere utilizzato insieme al parametro `n`.\n",
    "3. **`replace`**: Se `True`, consente il campionamento con ripetizione (ossia, gli stessi elementi possono essere estratti più di una volta).\n",
    "    - *Tipo*: booleano.\n",
    "    - *Valore predefinito*: `False`.\n",
    "4. **`weights`**: Determina le probabilità con cui ogni elemento è campionato. Può essere una colonna del DataFrame o un array-like di pesi.\n",
    "    - *Tipo*: array-like o nome di colonna.\n",
    "5. **`random_state`**: Un seme o seed per la generazione di numeri casuali, che rende il campionamento riproducibile.\n",
    "    - *Tipo*: intero.\n",
    "6. **`axis`**: Specifica se campionare righe o colonne.\n",
    "    - `axis=0` o `'index'` per campionare righe (valore predefinito).\n",
    "    - `axis=1` o `'columns'` per campionare colonne.\n",
    "\n",
    "#### Esempi di Utilizzo di `.sample()`\n",
    "\n",
    "#### Esempio 1: Campionare un numero fisso di righe"
   ]
  },
  {
   "cell_type": "code",
   "execution_count": 43,
   "metadata": {},
   "outputs": [
    {
     "data": {
      "text/html": [
       "<div>\n",
       "<style scoped>\n",
       "    .dataframe tbody tr th:only-of-type {\n",
       "        vertical-align: middle;\n",
       "    }\n",
       "\n",
       "    .dataframe tbody tr th {\n",
       "        vertical-align: top;\n",
       "    }\n",
       "\n",
       "    .dataframe thead th {\n",
       "        text-align: right;\n",
       "    }\n",
       "</style>\n",
       "<table border=\"1\" class=\"dataframe\">\n",
       "  <thead>\n",
       "    <tr style=\"text-align: right;\">\n",
       "      <th></th>\n",
       "      <th>order_id</th>\n",
       "      <th>customer_state</th>\n",
       "      <th>product_category_name</th>\n",
       "      <th>product_weight_g</th>\n",
       "      <th>review_score</th>\n",
       "      <th>price</th>\n",
       "      <th>freight_value</th>\n",
       "      <th>payment_value</th>\n",
       "      <th>order_approved_at</th>\n",
       "      <th>order_purchase_timestamp</th>\n",
       "    </tr>\n",
       "  </thead>\n",
       "  <tbody>\n",
       "    <tr>\n",
       "      <th>81</th>\n",
       "      <td>1a6c3832fcc2947c38b41bd24fe0201e</td>\n",
       "      <td>CE</td>\n",
       "      <td>cool_stuff</td>\n",
       "      <td>650.0</td>\n",
       "      <td>5</td>\n",
       "      <td>45.90</td>\n",
       "      <td>35.67</td>\n",
       "      <td>81.57</td>\n",
       "      <td>2017-06-30 15:50:15</td>\n",
       "      <td>2017-06-30 15:31:51</td>\n",
       "    </tr>\n",
       "    <tr>\n",
       "      <th>1165</th>\n",
       "      <td>807e1137296f0952dc5038aadf9d1f76</td>\n",
       "      <td>MG</td>\n",
       "      <td>perfumaria</td>\n",
       "      <td>200.0</td>\n",
       "      <td>2</td>\n",
       "      <td>53.99</td>\n",
       "      <td>15.13</td>\n",
       "      <td>69.12</td>\n",
       "      <td>2018-02-07 02:55:55</td>\n",
       "      <td>2018-02-06 16:33:24</td>\n",
       "    </tr>\n",
       "  </tbody>\n",
       "</table>\n",
       "</div>"
      ],
      "text/plain": [
       "                              order_id customer_state product_category_name  \\\n",
       "81    1a6c3832fcc2947c38b41bd24fe0201e             CE            cool_stuff   \n",
       "1165  807e1137296f0952dc5038aadf9d1f76             MG            perfumaria   \n",
       "\n",
       "      product_weight_g  review_score  price  freight_value  payment_value  \\\n",
       "81               650.0             5  45.90          35.67          81.57   \n",
       "1165             200.0             2  53.99          15.13          69.12   \n",
       "\n",
       "        order_approved_at order_purchase_timestamp  \n",
       "81    2017-06-30 15:50:15      2017-06-30 15:31:51  \n",
       "1165  2018-02-07 02:55:55      2018-02-06 16:33:24  "
      ]
     },
     "execution_count": 43,
     "metadata": {},
     "output_type": "execute_result"
    }
   ],
   "source": [
    "csv.sample(n=2)"
   ]
  },
  {
   "cell_type": "markdown",
   "metadata": {},
   "source": [
    "#### Esempio 2: Campionare una frazione di righe"
   ]
  },
  {
   "cell_type": "code",
   "execution_count": 44,
   "metadata": {},
   "outputs": [
    {
     "data": {
      "text/html": [
       "<div>\n",
       "<style scoped>\n",
       "    .dataframe tbody tr th:only-of-type {\n",
       "        vertical-align: middle;\n",
       "    }\n",
       "\n",
       "    .dataframe tbody tr th {\n",
       "        vertical-align: top;\n",
       "    }\n",
       "\n",
       "    .dataframe thead th {\n",
       "        text-align: right;\n",
       "    }\n",
       "</style>\n",
       "<table border=\"1\" class=\"dataframe\">\n",
       "  <thead>\n",
       "    <tr style=\"text-align: right;\">\n",
       "      <th></th>\n",
       "      <th>order_id</th>\n",
       "      <th>customer_state</th>\n",
       "      <th>product_category_name</th>\n",
       "      <th>product_weight_g</th>\n",
       "      <th>review_score</th>\n",
       "      <th>price</th>\n",
       "      <th>freight_value</th>\n",
       "      <th>payment_value</th>\n",
       "      <th>order_approved_at</th>\n",
       "      <th>order_purchase_timestamp</th>\n",
       "    </tr>\n",
       "  </thead>\n",
       "  <tbody>\n",
       "    <tr>\n",
       "      <th>427</th>\n",
       "      <td>9b643bf8a8614206d936530d416aef57</td>\n",
       "      <td>PR</td>\n",
       "      <td>audio</td>\n",
       "      <td>167.0</td>\n",
       "      <td>2</td>\n",
       "      <td>19.90</td>\n",
       "      <td>14.10</td>\n",
       "      <td>34.00</td>\n",
       "      <td>2017-11-22 11:54:27</td>\n",
       "      <td>2017-11-22 11:42:43</td>\n",
       "    </tr>\n",
       "    <tr>\n",
       "      <th>242</th>\n",
       "      <td>bde305d08669a1b46554c10f03a85675</td>\n",
       "      <td>RJ</td>\n",
       "      <td>pet_shop</td>\n",
       "      <td>7300.0</td>\n",
       "      <td>5</td>\n",
       "      <td>29.90</td>\n",
       "      <td>17.93</td>\n",
       "      <td>47.83</td>\n",
       "      <td>2018-05-08 01:11:58</td>\n",
       "      <td>2018-05-08 00:45:50</td>\n",
       "    </tr>\n",
       "    <tr>\n",
       "      <th>113</th>\n",
       "      <td>7c3e480eb90c173aae4ffde40bbaec26</td>\n",
       "      <td>SP</td>\n",
       "      <td>cool_stuff</td>\n",
       "      <td>575.0</td>\n",
       "      <td>5</td>\n",
       "      <td>58.90</td>\n",
       "      <td>21.32</td>\n",
       "      <td>142.57</td>\n",
       "      <td>2017-08-23 02:55:54</td>\n",
       "      <td>2017-08-22 10:14:07</td>\n",
       "    </tr>\n",
       "    <tr>\n",
       "      <th>760</th>\n",
       "      <td>5ef2b9c9a5e997664dcaacc5fa769e07</td>\n",
       "      <td>PR</td>\n",
       "      <td>beleza_saude</td>\n",
       "      <td>1500.0</td>\n",
       "      <td>5</td>\n",
       "      <td>164.90</td>\n",
       "      <td>16.36</td>\n",
       "      <td>181.26</td>\n",
       "      <td>2017-03-25 02:10:41</td>\n",
       "      <td>2017-03-23 23:55:55</td>\n",
       "    </tr>\n",
       "    <tr>\n",
       "      <th>981</th>\n",
       "      <td>2f839b79d9954ebfedeeba654f0f3de8</td>\n",
       "      <td>SP</td>\n",
       "      <td>telefonia</td>\n",
       "      <td>150.0</td>\n",
       "      <td>5</td>\n",
       "      <td>7.00</td>\n",
       "      <td>7.39</td>\n",
       "      <td>71.95</td>\n",
       "      <td>2018-03-26 14:50:21</td>\n",
       "      <td>2018-03-26 14:40:10</td>\n",
       "    </tr>\n",
       "    <tr>\n",
       "      <th>...</th>\n",
       "      <td>...</td>\n",
       "      <td>...</td>\n",
       "      <td>...</td>\n",
       "      <td>...</td>\n",
       "      <td>...</td>\n",
       "      <td>...</td>\n",
       "      <td>...</td>\n",
       "      <td>...</td>\n",
       "      <td>...</td>\n",
       "      <td>...</td>\n",
       "    </tr>\n",
       "    <tr>\n",
       "      <th>1041</th>\n",
       "      <td>57c2914d78f0d7f4b76089b7844e77ea</td>\n",
       "      <td>SP</td>\n",
       "      <td>perfumaria</td>\n",
       "      <td>550.0</td>\n",
       "      <td>3</td>\n",
       "      <td>84.99</td>\n",
       "      <td>8.79</td>\n",
       "      <td>93.78</td>\n",
       "      <td>2017-07-11 21:36:01</td>\n",
       "      <td>2017-07-11 20:58:08</td>\n",
       "    </tr>\n",
       "    <tr>\n",
       "      <th>1074</th>\n",
       "      <td>bca3dc20a3ec02261c5b17dc270e9e65</td>\n",
       "      <td>MG</td>\n",
       "      <td>perfumaria</td>\n",
       "      <td>550.0</td>\n",
       "      <td>5</td>\n",
       "      <td>84.99</td>\n",
       "      <td>16.35</td>\n",
       "      <td>101.34</td>\n",
       "      <td>2017-12-06 02:50:38</td>\n",
       "      <td>2017-12-05 10:34:52</td>\n",
       "    </tr>\n",
       "    <tr>\n",
       "      <th>1603</th>\n",
       "      <td>8092a1edb9b302ea942c2671edf4737c</td>\n",
       "      <td>SP</td>\n",
       "      <td>beleza_saude</td>\n",
       "      <td>200.0</td>\n",
       "      <td>2</td>\n",
       "      <td>58.99</td>\n",
       "      <td>13.07</td>\n",
       "      <td>72.06</td>\n",
       "      <td>2018-06-29 16:11:39</td>\n",
       "      <td>2018-06-29 15:27:05</td>\n",
       "    </tr>\n",
       "    <tr>\n",
       "      <th>1768</th>\n",
       "      <td>d339c3ad62c16e15e4c2f3e39abd1abb</td>\n",
       "      <td>RS</td>\n",
       "      <td>perfumaria</td>\n",
       "      <td>400.0</td>\n",
       "      <td>4</td>\n",
       "      <td>56.99</td>\n",
       "      <td>16.10</td>\n",
       "      <td>73.09</td>\n",
       "      <td>2017-04-15 11:55:08</td>\n",
       "      <td>2017-04-15 11:44:00</td>\n",
       "    </tr>\n",
       "    <tr>\n",
       "      <th>1864</th>\n",
       "      <td>acc3d23f43622a2ad8db0ee9d65003cf</td>\n",
       "      <td>SP</td>\n",
       "      <td>perfumaria</td>\n",
       "      <td>250.0</td>\n",
       "      <td>5</td>\n",
       "      <td>56.99</td>\n",
       "      <td>8.72</td>\n",
       "      <td>65.71</td>\n",
       "      <td>2018-01-10 10:32:24</td>\n",
       "      <td>2018-01-09 21:08:24</td>\n",
       "    </tr>\n",
       "  </tbody>\n",
       "</table>\n",
       "<p>1011 rows × 10 columns</p>\n",
       "</div>"
      ],
      "text/plain": [
       "                              order_id customer_state product_category_name  \\\n",
       "427   9b643bf8a8614206d936530d416aef57             PR                 audio   \n",
       "242   bde305d08669a1b46554c10f03a85675             RJ              pet_shop   \n",
       "113   7c3e480eb90c173aae4ffde40bbaec26             SP            cool_stuff   \n",
       "760   5ef2b9c9a5e997664dcaacc5fa769e07             PR          beleza_saude   \n",
       "981   2f839b79d9954ebfedeeba654f0f3de8             SP             telefonia   \n",
       "...                                ...            ...                   ...   \n",
       "1041  57c2914d78f0d7f4b76089b7844e77ea             SP            perfumaria   \n",
       "1074  bca3dc20a3ec02261c5b17dc270e9e65             MG            perfumaria   \n",
       "1603  8092a1edb9b302ea942c2671edf4737c             SP          beleza_saude   \n",
       "1768  d339c3ad62c16e15e4c2f3e39abd1abb             RS            perfumaria   \n",
       "1864  acc3d23f43622a2ad8db0ee9d65003cf             SP            perfumaria   \n",
       "\n",
       "      product_weight_g  review_score   price  freight_value  payment_value  \\\n",
       "427              167.0             2   19.90          14.10          34.00   \n",
       "242             7300.0             5   29.90          17.93          47.83   \n",
       "113              575.0             5   58.90          21.32         142.57   \n",
       "760             1500.0             5  164.90          16.36         181.26   \n",
       "981              150.0             5    7.00           7.39          71.95   \n",
       "...                ...           ...     ...            ...            ...   \n",
       "1041             550.0             3   84.99           8.79          93.78   \n",
       "1074             550.0             5   84.99          16.35         101.34   \n",
       "1603             200.0             2   58.99          13.07          72.06   \n",
       "1768             400.0             4   56.99          16.10          73.09   \n",
       "1864             250.0             5   56.99           8.72          65.71   \n",
       "\n",
       "        order_approved_at order_purchase_timestamp  \n",
       "427   2017-11-22 11:54:27      2017-11-22 11:42:43  \n",
       "242   2018-05-08 01:11:58      2018-05-08 00:45:50  \n",
       "113   2017-08-23 02:55:54      2017-08-22 10:14:07  \n",
       "760   2017-03-25 02:10:41      2017-03-23 23:55:55  \n",
       "981   2018-03-26 14:50:21      2018-03-26 14:40:10  \n",
       "...                   ...                      ...  \n",
       "1041  2017-07-11 21:36:01      2017-07-11 20:58:08  \n",
       "1074  2017-12-06 02:50:38      2017-12-05 10:34:52  \n",
       "1603  2018-06-29 16:11:39      2018-06-29 15:27:05  \n",
       "1768  2017-04-15 11:55:08      2017-04-15 11:44:00  \n",
       "1864  2018-01-10 10:32:24      2018-01-09 21:08:24  \n",
       "\n",
       "[1011 rows x 10 columns]"
      ]
     },
     "execution_count": 44,
     "metadata": {},
     "output_type": "execute_result"
    }
   ],
   "source": [
    "csv.sample(frac=0.5)"
   ]
  },
  {
   "cell_type": "markdown",
   "metadata": {},
   "source": [
    "#### Esempio 3: Campionamento con ripetizione"
   ]
  },
  {
   "cell_type": "code",
   "execution_count": 45,
   "metadata": {},
   "outputs": [
    {
     "data": {
      "text/html": [
       "<div>\n",
       "<style scoped>\n",
       "    .dataframe tbody tr th:only-of-type {\n",
       "        vertical-align: middle;\n",
       "    }\n",
       "\n",
       "    .dataframe tbody tr th {\n",
       "        vertical-align: top;\n",
       "    }\n",
       "\n",
       "    .dataframe thead th {\n",
       "        text-align: right;\n",
       "    }\n",
       "</style>\n",
       "<table border=\"1\" class=\"dataframe\">\n",
       "  <thead>\n",
       "    <tr style=\"text-align: right;\">\n",
       "      <th></th>\n",
       "      <th>order_id</th>\n",
       "      <th>customer_state</th>\n",
       "      <th>product_category_name</th>\n",
       "      <th>product_weight_g</th>\n",
       "      <th>review_score</th>\n",
       "      <th>price</th>\n",
       "      <th>freight_value</th>\n",
       "      <th>payment_value</th>\n",
       "      <th>order_approved_at</th>\n",
       "      <th>order_purchase_timestamp</th>\n",
       "    </tr>\n",
       "  </thead>\n",
       "  <tbody>\n",
       "    <tr>\n",
       "      <th>18</th>\n",
       "      <td>d829ae9ca5e0a9749f2574b62eb7ac10</td>\n",
       "      <td>BA</td>\n",
       "      <td>cool_stuff</td>\n",
       "      <td>530.0</td>\n",
       "      <td>5</td>\n",
       "      <td>55.90</td>\n",
       "      <td>27.99</td>\n",
       "      <td>167.51</td>\n",
       "      <td>2017-07-13 02:56:03</td>\n",
       "      <td>2017-07-12 12:04:28</td>\n",
       "    </tr>\n",
       "    <tr>\n",
       "      <th>448</th>\n",
       "      <td>3823f120a83e20af66f49d377207bbeb</td>\n",
       "      <td>SP</td>\n",
       "      <td>audio</td>\n",
       "      <td>200.0</td>\n",
       "      <td>3</td>\n",
       "      <td>14.90</td>\n",
       "      <td>8.29</td>\n",
       "      <td>23.19</td>\n",
       "      <td>2018-07-18 03:05:22</td>\n",
       "      <td>2018-07-17 18:18:59</td>\n",
       "    </tr>\n",
       "    <tr>\n",
       "      <th>977</th>\n",
       "      <td>2909debcb57debbbdfe7034eaf7b28bc</td>\n",
       "      <td>SP</td>\n",
       "      <td>telefonia</td>\n",
       "      <td>150.0</td>\n",
       "      <td>5</td>\n",
       "      <td>7.00</td>\n",
       "      <td>11.85</td>\n",
       "      <td>18.85</td>\n",
       "      <td>2017-06-13 04:43:07</td>\n",
       "      <td>2017-06-10 17:06:01</td>\n",
       "    </tr>\n",
       "    <tr>\n",
       "      <th>1869</th>\n",
       "      <td>aeefcf3435f9cc6db2c0b8019f17ca7f</td>\n",
       "      <td>SP</td>\n",
       "      <td>perfumaria</td>\n",
       "      <td>250.0</td>\n",
       "      <td>5</td>\n",
       "      <td>49.99</td>\n",
       "      <td>8.29</td>\n",
       "      <td>58.28</td>\n",
       "      <td>2018-03-23 18:30:42</td>\n",
       "      <td>2018-03-23 18:15:49</td>\n",
       "    </tr>\n",
       "  </tbody>\n",
       "</table>\n",
       "</div>"
      ],
      "text/plain": [
       "                              order_id customer_state product_category_name  \\\n",
       "18    d829ae9ca5e0a9749f2574b62eb7ac10             BA            cool_stuff   \n",
       "448   3823f120a83e20af66f49d377207bbeb             SP                 audio   \n",
       "977   2909debcb57debbbdfe7034eaf7b28bc             SP             telefonia   \n",
       "1869  aeefcf3435f9cc6db2c0b8019f17ca7f             SP            perfumaria   \n",
       "\n",
       "      product_weight_g  review_score  price  freight_value  payment_value  \\\n",
       "18               530.0             5  55.90          27.99         167.51   \n",
       "448              200.0             3  14.90           8.29          23.19   \n",
       "977              150.0             5   7.00          11.85          18.85   \n",
       "1869             250.0             5  49.99           8.29          58.28   \n",
       "\n",
       "        order_approved_at order_purchase_timestamp  \n",
       "18    2017-07-13 02:56:03      2017-07-12 12:04:28  \n",
       "448   2018-07-18 03:05:22      2018-07-17 18:18:59  \n",
       "977   2017-06-13 04:43:07      2017-06-10 17:06:01  \n",
       "1869  2018-03-23 18:30:42      2018-03-23 18:15:49  "
      ]
     },
     "execution_count": 45,
     "metadata": {},
     "output_type": "execute_result"
    }
   ],
   "source": [
    "csv.sample(n=4, replace=True)"
   ]
  },
  {
   "cell_type": "markdown",
   "metadata": {},
   "source": [
    "#### Esempio 4: Campionamento riproducibile usando random_state"
   ]
  },
  {
   "cell_type": "code",
   "execution_count": 46,
   "metadata": {},
   "outputs": [
    {
     "data": {
      "text/html": [
       "<div>\n",
       "<style scoped>\n",
       "    .dataframe tbody tr th:only-of-type {\n",
       "        vertical-align: middle;\n",
       "    }\n",
       "\n",
       "    .dataframe tbody tr th {\n",
       "        vertical-align: top;\n",
       "    }\n",
       "\n",
       "    .dataframe thead th {\n",
       "        text-align: right;\n",
       "    }\n",
       "</style>\n",
       "<table border=\"1\" class=\"dataframe\">\n",
       "  <thead>\n",
       "    <tr style=\"text-align: right;\">\n",
       "      <th></th>\n",
       "      <th>order_id</th>\n",
       "      <th>customer_state</th>\n",
       "      <th>product_category_name</th>\n",
       "      <th>product_weight_g</th>\n",
       "      <th>review_score</th>\n",
       "      <th>price</th>\n",
       "      <th>freight_value</th>\n",
       "      <th>payment_value</th>\n",
       "      <th>order_approved_at</th>\n",
       "      <th>order_purchase_timestamp</th>\n",
       "    </tr>\n",
       "  </thead>\n",
       "  <tbody>\n",
       "    <tr>\n",
       "      <th>674</th>\n",
       "      <td>b0e2da4433a10c624a9f71b187e93915</td>\n",
       "      <td>SP</td>\n",
       "      <td>beleza_saude</td>\n",
       "      <td>400.0</td>\n",
       "      <td>5</td>\n",
       "      <td>99.90</td>\n",
       "      <td>9.51</td>\n",
       "      <td>109.41</td>\n",
       "      <td>2017-05-07 02:10:12</td>\n",
       "      <td>2017-05-06 21:55:41</td>\n",
       "    </tr>\n",
       "    <tr>\n",
       "      <th>1384</th>\n",
       "      <td>b45d11b61c2a68756bbbd7665d67e812</td>\n",
       "      <td>MG</td>\n",
       "      <td>beleza_saude</td>\n",
       "      <td>250.0</td>\n",
       "      <td>4</td>\n",
       "      <td>89.99</td>\n",
       "      <td>16.39</td>\n",
       "      <td>106.38</td>\n",
       "      <td>2017-10-13 15:56:25</td>\n",
       "      <td>2017-10-11 21:55:04</td>\n",
       "    </tr>\n",
       "  </tbody>\n",
       "</table>\n",
       "</div>"
      ],
      "text/plain": [
       "                              order_id customer_state product_category_name  \\\n",
       "674   b0e2da4433a10c624a9f71b187e93915             SP          beleza_saude   \n",
       "1384  b45d11b61c2a68756bbbd7665d67e812             MG          beleza_saude   \n",
       "\n",
       "      product_weight_g  review_score  price  freight_value  payment_value  \\\n",
       "674              400.0             5  99.90           9.51         109.41   \n",
       "1384             250.0             4  89.99          16.39         106.38   \n",
       "\n",
       "        order_approved_at order_purchase_timestamp  \n",
       "674   2017-05-07 02:10:12      2017-05-06 21:55:41  \n",
       "1384  2017-10-13 15:56:25      2017-10-11 21:55:04  "
      ]
     },
     "execution_count": 46,
     "metadata": {},
     "output_type": "execute_result"
    }
   ],
   "source": [
    "csv.sample(n=2, random_state=42)"
   ]
  },
  {
   "cell_type": "markdown",
   "metadata": {},
   "source": [
    "#### Esempio 5: Campionare colonne invece di righe"
   ]
  },
  {
   "cell_type": "code",
   "execution_count": 47,
   "metadata": {},
   "outputs": [
    {
     "data": {
      "text/html": [
       "<div>\n",
       "<style scoped>\n",
       "    .dataframe tbody tr th:only-of-type {\n",
       "        vertical-align: middle;\n",
       "    }\n",
       "\n",
       "    .dataframe tbody tr th {\n",
       "        vertical-align: top;\n",
       "    }\n",
       "\n",
       "    .dataframe thead th {\n",
       "        text-align: right;\n",
       "    }\n",
       "</style>\n",
       "<table border=\"1\" class=\"dataframe\">\n",
       "  <thead>\n",
       "    <tr style=\"text-align: right;\">\n",
       "      <th></th>\n",
       "      <th>order_approved_at</th>\n",
       "    </tr>\n",
       "  </thead>\n",
       "  <tbody>\n",
       "    <tr>\n",
       "      <th>0</th>\n",
       "      <td>2017-09-13 09:45:35</td>\n",
       "    </tr>\n",
       "    <tr>\n",
       "      <th>1</th>\n",
       "      <td>2017-06-29 02:44:11</td>\n",
       "    </tr>\n",
       "    <tr>\n",
       "      <th>2</th>\n",
       "      <td>2018-05-18 12:31:43</td>\n",
       "    </tr>\n",
       "    <tr>\n",
       "      <th>3</th>\n",
       "      <td>2017-08-01 18:55:08</td>\n",
       "    </tr>\n",
       "    <tr>\n",
       "      <th>4</th>\n",
       "      <td>2017-08-10 22:05:11</td>\n",
       "    </tr>\n",
       "    <tr>\n",
       "      <th>...</th>\n",
       "      <td>...</td>\n",
       "    </tr>\n",
       "    <tr>\n",
       "      <th>2017</th>\n",
       "      <td>2017-11-22 02:56:28</td>\n",
       "    </tr>\n",
       "    <tr>\n",
       "      <th>2018</th>\n",
       "      <td>2018-02-13 16:50:30</td>\n",
       "    </tr>\n",
       "    <tr>\n",
       "      <th>2019</th>\n",
       "      <td>2018-02-13 16:50:30</td>\n",
       "    </tr>\n",
       "    <tr>\n",
       "      <th>2020</th>\n",
       "      <td>2018-03-01 02:50:46</td>\n",
       "    </tr>\n",
       "    <tr>\n",
       "      <th>2021</th>\n",
       "      <td>2017-06-11 17:55:17</td>\n",
       "    </tr>\n",
       "  </tbody>\n",
       "</table>\n",
       "<p>2022 rows × 1 columns</p>\n",
       "</div>"
      ],
      "text/plain": [
       "        order_approved_at\n",
       "0     2017-09-13 09:45:35\n",
       "1     2017-06-29 02:44:11\n",
       "2     2018-05-18 12:31:43\n",
       "3     2017-08-01 18:55:08\n",
       "4     2017-08-10 22:05:11\n",
       "...                   ...\n",
       "2017  2017-11-22 02:56:28\n",
       "2018  2018-02-13 16:50:30\n",
       "2019  2018-02-13 16:50:30\n",
       "2020  2018-03-01 02:50:46\n",
       "2021  2017-06-11 17:55:17\n",
       "\n",
       "[2022 rows x 1 columns]"
      ]
     },
     "execution_count": 47,
     "metadata": {},
     "output_type": "execute_result"
    }
   ],
   "source": [
    "csv.sample(n=1, axis=1)"
   ]
  },
  {
   "cell_type": "code",
   "execution_count": null,
   "metadata": {},
   "outputs": [],
   "source": []
  },
  {
   "cell_type": "code",
   "execution_count": null,
   "metadata": {},
   "outputs": [],
   "source": []
  },
  {
   "cell_type": "markdown",
   "metadata": {},
   "source": [
    "# 3. Selecting and Indexing Data"
   ]
  },
  {
   "cell_type": "markdown",
   "metadata": {},
   "source": [
    "spiegami i principali parametri per ogni comando che ti manderò e fammi alcuni esempi"
   ]
  },
  {
   "cell_type": "markdown",
   "metadata": {},
   "source": [
    "## ``.loc[]`` – Accesses groups of rows and columns by labels."
   ]
  },
  {
   "cell_type": "markdown",
   "metadata": {},
   "source": [
    "Il metodo `.loc[]` in Pandas viene utilizzato per accedere e modificare dati in un DataFrame o in una Serie, in base a etichette di indice (o nomi di colonne). È particolarmente utile quando si desidera selezionare righe o colonne specifiche utilizzando le loro etichette piuttosto che la loro posizione numerica.\n",
    "\n",
    "### Sintassi Generale di `.loc[]`\n",
    "\n",
    "``` python\n",
    "DataFrame.loc[righe, colonne]\n",
    "```\n",
    "\n",
    "- **`righe`**: Specifica le righe da selezionare utilizzando l’etichetta dell'indice.\n",
    "- **`colonne`**: Specifica le colonne da selezionare utilizzando i nomi delle colonne.\n",
    "\n",
    "### Principali Utilizzi e Esempi di `.loc[]`\n",
    "\n",
    "1. **Selezionare una riga specifica**: Passando l'etichetta della riga.\n",
    "2. **Selezionare più righe**: Utilizzando una lista di etichette o una condizione booleana.\n",
    "3. **Selezionare una colonna specifica o più colonne**: Specificando il nome della colonna o una lista di nomi.\n",
    "4. **Modificare valori**: `.loc[]` può essere utilizzato per aggiornare valori specifici in base a una condizione.\n",
    "\n",
    "### Esempi di Utilizzo di `.loc[]`\n",
    "\n",
    "### Esempio 1: Selezionare una specifica riga"
   ]
  },
  {
   "cell_type": "code",
   "execution_count": 48,
   "metadata": {},
   "outputs": [
    {
     "data": {
      "text/plain": [
       "order_id                    130898c0987d1801452a8ed92a670612\n",
       "customer_state                                            GO\n",
       "product_category_name                             cool_stuff\n",
       "product_weight_g                                       650.0\n",
       "review_score                                               5\n",
       "price                                                   55.9\n",
       "freight_value                                          17.96\n",
       "payment_value                                          73.86\n",
       "order_approved_at                        2017-06-29 02:44:11\n",
       "order_purchase_timestamp                 2017-06-28 11:52:20\n",
       "Name: 1, dtype: object"
      ]
     },
     "execution_count": 48,
     "metadata": {},
     "output_type": "execute_result"
    }
   ],
   "source": [
    "csv.loc[1]"
   ]
  },
  {
   "cell_type": "markdown",
   "metadata": {},
   "source": [
    "### Esempio 2: Selezionare più righe"
   ]
  },
  {
   "cell_type": "code",
   "execution_count": 49,
   "metadata": {},
   "outputs": [
    {
     "data": {
      "text/html": [
       "<div>\n",
       "<style scoped>\n",
       "    .dataframe tbody tr th:only-of-type {\n",
       "        vertical-align: middle;\n",
       "    }\n",
       "\n",
       "    .dataframe tbody tr th {\n",
       "        vertical-align: top;\n",
       "    }\n",
       "\n",
       "    .dataframe thead th {\n",
       "        text-align: right;\n",
       "    }\n",
       "</style>\n",
       "<table border=\"1\" class=\"dataframe\">\n",
       "  <thead>\n",
       "    <tr style=\"text-align: right;\">\n",
       "      <th></th>\n",
       "      <th>order_id</th>\n",
       "      <th>customer_state</th>\n",
       "      <th>product_category_name</th>\n",
       "      <th>product_weight_g</th>\n",
       "      <th>review_score</th>\n",
       "      <th>price</th>\n",
       "      <th>freight_value</th>\n",
       "      <th>payment_value</th>\n",
       "      <th>order_approved_at</th>\n",
       "      <th>order_purchase_timestamp</th>\n",
       "    </tr>\n",
       "  </thead>\n",
       "  <tbody>\n",
       "    <tr>\n",
       "      <th>1</th>\n",
       "      <td>130898c0987d1801452a8ed92a670612</td>\n",
       "      <td>GO</td>\n",
       "      <td>cool_stuff</td>\n",
       "      <td>650.0</td>\n",
       "      <td>5</td>\n",
       "      <td>55.9</td>\n",
       "      <td>17.96</td>\n",
       "      <td>73.86</td>\n",
       "      <td>2017-06-29 02:44:11</td>\n",
       "      <td>2017-06-28 11:52:20</td>\n",
       "    </tr>\n",
       "    <tr>\n",
       "      <th>22</th>\n",
       "      <td>7766424657aa0cfbf1703f9550144964</td>\n",
       "      <td>RJ</td>\n",
       "      <td>cool_stuff</td>\n",
       "      <td>400.0</td>\n",
       "      <td>5</td>\n",
       "      <td>55.9</td>\n",
       "      <td>9.27</td>\n",
       "      <td>65.17</td>\n",
       "      <td>2017-08-08 11:43:36</td>\n",
       "      <td>2017-08-08 11:24:19</td>\n",
       "    </tr>\n",
       "  </tbody>\n",
       "</table>\n",
       "</div>"
      ],
      "text/plain": [
       "                            order_id customer_state product_category_name  \\\n",
       "1   130898c0987d1801452a8ed92a670612             GO            cool_stuff   \n",
       "22  7766424657aa0cfbf1703f9550144964             RJ            cool_stuff   \n",
       "\n",
       "    product_weight_g  review_score  price  freight_value  payment_value  \\\n",
       "1              650.0             5   55.9          17.96          73.86   \n",
       "22             400.0             5   55.9           9.27          65.17   \n",
       "\n",
       "      order_approved_at order_purchase_timestamp  \n",
       "1   2017-06-29 02:44:11      2017-06-28 11:52:20  \n",
       "22  2017-08-08 11:43:36      2017-08-08 11:24:19  "
      ]
     },
     "execution_count": 49,
     "metadata": {},
     "output_type": "execute_result"
    }
   ],
   "source": [
    "csv.loc[[1, 22]]"
   ]
  },
  {
   "cell_type": "markdown",
   "metadata": {},
   "source": [
    "### Esempio 3: Selezionare specifiche colonne di una riga"
   ]
  },
  {
   "cell_type": "code",
   "execution_count": 50,
   "metadata": {},
   "outputs": [
    {
     "data": {
      "text/html": [
       "<div>\n",
       "<style scoped>\n",
       "    .dataframe tbody tr th:only-of-type {\n",
       "        vertical-align: middle;\n",
       "    }\n",
       "\n",
       "    .dataframe tbody tr th {\n",
       "        vertical-align: top;\n",
       "    }\n",
       "\n",
       "    .dataframe thead th {\n",
       "        text-align: right;\n",
       "    }\n",
       "</style>\n",
       "<table border=\"1\" class=\"dataframe\">\n",
       "  <thead>\n",
       "    <tr style=\"text-align: right;\">\n",
       "      <th></th>\n",
       "      <th>customer_state</th>\n",
       "      <th>order_id</th>\n",
       "    </tr>\n",
       "  </thead>\n",
       "  <tbody>\n",
       "    <tr>\n",
       "      <th>1</th>\n",
       "      <td>GO</td>\n",
       "      <td>130898c0987d1801452a8ed92a670612</td>\n",
       "    </tr>\n",
       "    <tr>\n",
       "      <th>2</th>\n",
       "      <td>MG</td>\n",
       "      <td>532ed5e14e24ae1f0d735b91524b98b9</td>\n",
       "    </tr>\n",
       "  </tbody>\n",
       "</table>\n",
       "</div>"
      ],
      "text/plain": [
       "  customer_state                          order_id\n",
       "1             GO  130898c0987d1801452a8ed92a670612\n",
       "2             MG  532ed5e14e24ae1f0d735b91524b98b9"
      ]
     },
     "execution_count": 50,
     "metadata": {},
     "output_type": "execute_result"
    }
   ],
   "source": [
    "csv.loc[[1, 2], ['customer_state', 'order_id']]"
   ]
  },
  {
   "cell_type": "markdown",
   "metadata": {},
   "source": [
    "### Esempio 4: Selezionare righe basate su una condizione"
   ]
  },
  {
   "cell_type": "code",
   "execution_count": 51,
   "metadata": {},
   "outputs": [
    {
     "data": {
      "text/html": [
       "<div>\n",
       "<style scoped>\n",
       "    .dataframe tbody tr th:only-of-type {\n",
       "        vertical-align: middle;\n",
       "    }\n",
       "\n",
       "    .dataframe tbody tr th {\n",
       "        vertical-align: top;\n",
       "    }\n",
       "\n",
       "    .dataframe thead th {\n",
       "        text-align: right;\n",
       "    }\n",
       "</style>\n",
       "<table border=\"1\" class=\"dataframe\">\n",
       "  <thead>\n",
       "    <tr style=\"text-align: right;\">\n",
       "      <th></th>\n",
       "      <th>order_id</th>\n",
       "      <th>customer_state</th>\n",
       "      <th>product_category_name</th>\n",
       "      <th>product_weight_g</th>\n",
       "      <th>review_score</th>\n",
       "      <th>price</th>\n",
       "      <th>freight_value</th>\n",
       "      <th>payment_value</th>\n",
       "      <th>order_approved_at</th>\n",
       "      <th>order_purchase_timestamp</th>\n",
       "    </tr>\n",
       "  </thead>\n",
       "  <tbody>\n",
       "    <tr>\n",
       "      <th>0</th>\n",
       "      <td>00010242fe8c5a6d1ba2dd792cb16214</td>\n",
       "      <td>RJ</td>\n",
       "      <td>cool_stuff</td>\n",
       "      <td>650.0</td>\n",
       "      <td>5</td>\n",
       "      <td>58.9</td>\n",
       "      <td>13.29</td>\n",
       "      <td>72.19</td>\n",
       "      <td>2017-09-13 09:45:35</td>\n",
       "      <td>2017-09-13 08:59:02</td>\n",
       "    </tr>\n",
       "    <tr>\n",
       "      <th>1</th>\n",
       "      <td>130898c0987d1801452a8ed92a670612</td>\n",
       "      <td>GO</td>\n",
       "      <td>cool_stuff</td>\n",
       "      <td>650.0</td>\n",
       "      <td>5</td>\n",
       "      <td>55.9</td>\n",
       "      <td>17.96</td>\n",
       "      <td>73.86</td>\n",
       "      <td>2017-06-29 02:44:11</td>\n",
       "      <td>2017-06-28 11:52:20</td>\n",
       "    </tr>\n",
       "    <tr>\n",
       "      <th>3</th>\n",
       "      <td>6f8c31653edb8c83e1a739408b5ff750</td>\n",
       "      <td>PR</td>\n",
       "      <td>cool_stuff</td>\n",
       "      <td>650.0</td>\n",
       "      <td>5</td>\n",
       "      <td>58.9</td>\n",
       "      <td>16.17</td>\n",
       "      <td>75.07</td>\n",
       "      <td>2017-08-01 18:55:08</td>\n",
       "      <td>2017-08-01 18:38:42</td>\n",
       "    </tr>\n",
       "    <tr>\n",
       "      <th>4</th>\n",
       "      <td>7d19f4ef4d04461989632411b7e588b9</td>\n",
       "      <td>MG</td>\n",
       "      <td>cool_stuff</td>\n",
       "      <td>650.0</td>\n",
       "      <td>5</td>\n",
       "      <td>58.9</td>\n",
       "      <td>13.29</td>\n",
       "      <td>72.19</td>\n",
       "      <td>2017-08-10 22:05:11</td>\n",
       "      <td>2017-08-10 21:48:40</td>\n",
       "    </tr>\n",
       "    <tr>\n",
       "      <th>5</th>\n",
       "      <td>a0f9acf0b6294ed8561e32cde1a966bc</td>\n",
       "      <td>BA</td>\n",
       "      <td>cool_stuff</td>\n",
       "      <td>650.0</td>\n",
       "      <td>5</td>\n",
       "      <td>55.9</td>\n",
       "      <td>26.93</td>\n",
       "      <td>82.83</td>\n",
       "      <td>2017-07-28 15:23:46</td>\n",
       "      <td>2017-07-27 15:11:51</td>\n",
       "    </tr>\n",
       "  </tbody>\n",
       "</table>\n",
       "</div>"
      ],
      "text/plain": [
       "                           order_id customer_state product_category_name  \\\n",
       "0  00010242fe8c5a6d1ba2dd792cb16214             RJ            cool_stuff   \n",
       "1  130898c0987d1801452a8ed92a670612             GO            cool_stuff   \n",
       "3  6f8c31653edb8c83e1a739408b5ff750             PR            cool_stuff   \n",
       "4  7d19f4ef4d04461989632411b7e588b9             MG            cool_stuff   \n",
       "5  a0f9acf0b6294ed8561e32cde1a966bc             BA            cool_stuff   \n",
       "\n",
       "   product_weight_g  review_score  price  freight_value  payment_value  \\\n",
       "0             650.0             5   58.9          13.29          72.19   \n",
       "1             650.0             5   55.9          17.96          73.86   \n",
       "3             650.0             5   58.9          16.17          75.07   \n",
       "4             650.0             5   58.9          13.29          72.19   \n",
       "5             650.0             5   55.9          26.93          82.83   \n",
       "\n",
       "     order_approved_at order_purchase_timestamp  \n",
       "0  2017-09-13 09:45:35      2017-09-13 08:59:02  \n",
       "1  2017-06-29 02:44:11      2017-06-28 11:52:20  \n",
       "3  2017-08-01 18:55:08      2017-08-01 18:38:42  \n",
       "4  2017-08-10 22:05:11      2017-08-10 21:48:40  \n",
       "5  2017-07-28 15:23:46      2017-07-27 15:11:51  "
      ]
     },
     "execution_count": 51,
     "metadata": {},
     "output_type": "execute_result"
    }
   ],
   "source": [
    "csv.loc[csv['review_score'] >= 5].head()"
   ]
  },
  {
   "cell_type": "markdown",
   "metadata": {},
   "source": [
    "### Esempio 5: Modificare valori con .loc[]"
   ]
  },
  {
   "cell_type": "code",
   "execution_count": null,
   "metadata": {},
   "outputs": [],
   "source": [
    "csv.loc[1, 'review_score'] = 6"
   ]
  },
  {
   "cell_type": "markdown",
   "metadata": {},
   "source": [
    "## `.iloc[]` – Accede a gruppi di righe e colonne per posizione (basato su numeri interi)."
   ]
  },
  {
   "cell_type": "code",
   "execution_count": null,
   "metadata": {},
   "outputs": [],
   "source": []
  },
  {
   "cell_type": "markdown",
   "metadata": {},
   "source": [
    "## `.at[]` – Accede a un singolo valore per una coppia di etichette riga/colonna."
   ]
  },
  {
   "cell_type": "markdown",
   "metadata": {},
   "source": [
    "## `.iat[]` – Accede a un singolo valore per una coppia di posizione riga/colonna."
   ]
  },
  {
   "cell_type": "markdown",
   "metadata": {},
   "source": [
    "## `.filter()` – Sottoselezione del DataFrame basata su etichette di righe/colonne."
   ]
  },
  {
   "cell_type": "markdown",
   "metadata": {},
   "source": [
    "## `.xs()` – Ottieni sezioni trasversali da un MultiIndex."
   ]
  },
  {
   "cell_type": "markdown",
   "metadata": {},
   "source": [
    "## `.query()` – Filtra il DataFrame con un'espressione stringa."
   ]
  },
  {
   "cell_type": "markdown",
   "metadata": {},
   "source": [
    "## `.get()` – Recupera elementi da una Serie per chiave."
   ]
  },
  {
   "cell_type": "markdown",
   "metadata": {},
   "source": [
    "## `.isin()` – Filtra righe in base al fatto che i valori siano in una lista."
   ]
  },
  {
   "cell_type": "markdown",
   "metadata": {},
   "source": [
    "## `.where()` – Imposta valori in base a una condizione."
   ]
  },
  {
   "cell_type": "markdown",
   "metadata": {},
   "source": [
    "## `.mask()` – Sostituisce i valori dove una condizione è `True`."
   ]
  },
  {
   "cell_type": "markdown",
   "metadata": {},
   "source": [
    "## `.squeeze()` – Converte un DataFrame con una sola colonna in una Serie."
   ]
  },
  {
   "cell_type": "code",
   "execution_count": null,
   "metadata": {},
   "outputs": [],
   "source": []
  },
  {
   "cell_type": "code",
   "execution_count": null,
   "metadata": {},
   "outputs": [],
   "source": []
  },
  {
   "cell_type": "markdown",
   "metadata": {},
   "source": [
    "# 4. Data Cleaning"
   ]
  },
  {
   "cell_type": "markdown",
   "metadata": {},
   "source": [
    "# 5. Data Transformation"
   ]
  },
  {
   "cell_type": "markdown",
   "metadata": {},
   "source": [
    "# 6. Aggregation and Grouping"
   ]
  },
  {
   "cell_type": "markdown",
   "metadata": {},
   "source": [
    "# 7. Merging and Combining Data"
   ]
  },
  {
   "cell_type": "markdown",
   "metadata": {},
   "source": [
    "# 8. Exploring Temporal Data"
   ]
  },
  {
   "cell_type": "markdown",
   "metadata": {},
   "source": [
    "# 9. Exporting Data"
   ]
  },
  {
   "cell_type": "markdown",
   "metadata": {},
   "source": [
    "# 10. Handling Multi-Level Indices (MultiIndex)"
   ]
  },
  {
   "cell_type": "markdown",
   "metadata": {},
   "source": [
    "# 11. Pandas Profiling"
   ]
  },
  {
   "cell_type": "markdown",
   "metadata": {},
   "source": [
    "# 12. Method chaining"
   ]
  },
  {
   "cell_type": "markdown",
   "metadata": {},
   "source": [
    "## Web Scraping [RACCOLTA]"
   ]
  },
  {
   "cell_type": "markdown",
   "metadata": {},
   "source": [
    "##\n",
    "\n",
    "<p align=\"center\">\n",
    "  Enzo Schitini\n",
    "</p>\n",
    "\n",
    "<p align=\"center\">\n",
    "  Data Scientist & Data Analyst • SQL • Expert Bubble.io • UX & UI @ Scituffy creator\n",
    "</p>"
   ]
  }
 ],
 "metadata": {
  "kernelspec": {
   "display_name": "Python 3",
   "language": "python",
   "name": "python3"
  },
  "language_info": {
   "codemirror_mode": {
    "name": "ipython",
    "version": 3
   },
   "file_extension": ".py",
   "mimetype": "text/x-python",
   "name": "python",
   "nbconvert_exporter": "python",
   "pygments_lexer": "ipython3",
   "version": "3.12.6"
  }
 },
 "nbformat": 4,
 "nbformat_minor": 2
}
