{
 "cells": [
  {
   "cell_type": "markdown",
   "metadata": {},
   "source": [
    "# Importando Bibliotecas\n",
    "Importe as bibliotecas necessárias, incluindo NumPy, Pandas, Seaborn e Matplotlib."
   ]
  },
  {
   "cell_type": "code",
   "execution_count": null,
   "metadata": {},
   "outputs": [],
   "source": [
    "# Importando bibliotecas\n",
    "import numpy as np\n",
    "import pandas as pd\n",
    "import seaborn as sns\n",
    "import matplotlib.pyplot as plt\n",
    "\n",
    "sns.set_theme()  # Define o tema para o seaborn\n",
    "# %matplotlib inline  # Habilita a plotagem inline para notebooks Jupyter"
   ]
  },
  {
   "cell_type": "markdown",
   "metadata": {},
   "source": [
    "# Carregando o DataFrame\n",
    "Carregue o dataframe SINASC e exiba suas informações básicas."
   ]
  },
  {
   "cell_type": "code",
   "execution_count": null,
   "metadata": {},
   "outputs": [],
   "source": [
    "# Carregando o DataFrame\n",
    "\n",
    "# Carregar o dataframe SINASC\n",
    "sinasc_raw = pd.read_csv('SINASC_RO_2019.csv')\n",
    "\n",
    "# Exibir as primeiras linhas do dataframe\n",
    "display(sinasc_raw.head())\n",
    "\n",
    "# Exibir informações básicas do dataframe\n",
    "sinasc_raw.info()\n",
    "\n",
    "# Exibir estatísticas descritivas do dataframe\n",
    "display(sinasc_raw.describe())\n",
    "\n",
    "# Verificar valores nulos no dataframe\n",
    "display(sinasc_raw.isnull().sum())\n",
    "\n",
    "# Exibir a distribuição das variáveis categóricas\n",
    "for column in sinasc_raw.select_dtypes(include=['object']).columns:\n",
    "    display(sinasc_raw[column].value_counts())"
   ]
  },
  {
   "cell_type": "markdown",
   "metadata": {},
   "source": [
    "# Análise Exploratória de Dados (EDA)\n",
    "Realize uma análise exploratória de dados para entender melhor o conjunto de dados, incluindo a visualização de distribuições e correlações."
   ]
  },
  {
   "cell_type": "code",
   "execution_count": null,
   "metadata": {},
   "outputs": [],
   "source": [
    "# Análise Exploratória de Dados (EDA)\n",
    "\n",
    "# Visualizar a distribuição da idade das mães\n",
    "plt.figure(figsize=(10, 6))\n",
    "sns.histplot(sinasc_raw['IDADEMAE'], bins=30, kde=True)\n",
    "plt.title('Distribuição da Idade das Mães')\n",
    "plt.xlabel('Idade')\n",
    "plt.ylabel('Frequência')\n",
    "plt.show()\n",
    "\n",
    "# Visualizar a distribuição do peso dos bebês\n",
    "plt.figure(figsize=(10, 6))\n",
    "sns.histplot(sinasc_raw['PESO'], bins=30, kde=True)\n",
    "plt.title('Distribuição do Peso dos Bebês')\n",
    "plt.xlabel('Peso (gramas)')\n",
    "plt.ylabel('Frequência')\n",
    "plt.show()\n",
    "\n",
    "# Visualizar a correlação entre as variáveis numéricas\n",
    "plt.figure(figsize=(12, 8))\n",
    "sns.heatmap(sinasc_raw.corr(), annot=True, cmap='coolwarm', fmt='.2f')\n",
    "plt.title('Mapa de Calor das Correlações')\n",
    "plt.show()\n",
    "\n",
    "# Visualizar a relação entre a idade da mãe e o peso do bebê\n",
    "plt.figure(figsize=(10, 6))\n",
    "sns.scatterplot(data=sinasc_raw, x='IDADEMAE', y='PESO')\n",
    "plt.title('Relação entre a Idade da Mãe e o Peso do Bebê')\n",
    "plt.xlabel('Idade da Mãe')\n",
    "plt.ylabel('Peso do Bebê (gramas)')\n",
    "plt.show()\n",
    "\n",
    "# Visualizar a distribuição do APGAR1 e APGAR5\n",
    "fig, axes = plt.subplots(1, 2, figsize=(18, 6))\n",
    "sns.histplot(sinasc_raw['APGAR1'], bins=10, kde=True, ax=axes[0])\n",
    "axes[0].set_title('Distribuição do APGAR1')\n",
    "axes[0].set_xlabel('APGAR1')\n",
    "axes[0].set_ylabel('Frequência')\n",
    "\n",
    "sns.histplot(sinasc_raw['APGAR5'], bins=10, kde=True, ax=axes[1])\n",
    "axes[1].set_title('Distribuição do APGAR5')\n",
    "axes[1].set_xlabel('APGAR5')\n",
    "axes[1].set_ylabel('Frequência')\n",
    "\n",
    "plt.show()\n",
    "\n",
    "# Visualizar a relação entre a escolaridade da mãe e a idade da mãe\n",
    "plt.figure(figsize=(12, 6))\n",
    "sns.boxplot(data=sinasc_raw, x='ESCMAE', y='IDADEMAE')\n",
    "plt.title('Relação entre a Escolaridade da Mãe e a Idade da Mãe')\n",
    "plt.xlabel('Escolaridade da Mãe')\n",
    "plt.ylabel('Idade da Mãe')\n",
    "plt.xticks(rotation=45)\n",
    "plt.show()\n",
    "\n",
    "# Visualizar a relação entre a escolaridade da mãe e o peso do bebê\n",
    "plt.figure(figsize=(12, 6))\n",
    "sns.boxplot(data=sinasc_raw, x='ESCMAE', y='PESO')\n",
    "plt.title('Relação entre a Escolaridade da Mãe e o Peso do Bebê')\n",
    "plt.xlabel('Escolaridade da Mãe')\n",
    "plt.ylabel('Peso do Bebê (gramas)')\n",
    "plt.xticks(rotation=45)\n",
    "plt.show()\n",
    "\n",
    "# Visualizar a relação entre a idade da mãe e o APGAR5\n",
    "plt.figure(figsize=(10, 6))\n",
    "sns.scatterplot(data=sinasc_raw, x='IDADEMAE', y='APGAR5')\n",
    "plt.title('Relação entre a Idade da Mãe e o APGAR5')\n",
    "plt.xlabel('Idade da Mãe')\n",
    "plt.ylabel('APGAR5')\n",
    "plt.show()"
   ]
  }
 ],
 "metadata": {
  "kernelspec": {
   "display_name": "Python 3",
   "language": "python",
   "name": "python3"
  },
  "language_info": {
   "name": "python",
   "version": "3.12.6"
  }
 },
 "nbformat": 4,
 "nbformat_minor": 2
}
