{
 "cells": [
  {
   "cell_type": "markdown",
   "metadata": {},
   "source": [
    "**Guida all’uso di Pandas Profiling**\n",
    "\n",
    "Pandas Profiling è una libreria Python che semplifica l'analisi esplorativa dei dati (EDA). Genera automaticamente report dettagliati su un DataFrame Pandas, includendo statistiche descrittive, distribuzioni delle variabili, rilevamento di valori mancanti e molto altro."
   ]
  },
  {
   "cell_type": "markdown",
   "metadata": {},
   "source": [
    "---\n",
    "\n",
    "### **Installazione**\n",
    "\n",
    "Prima di utilizzare Pandas Profiling, è necessario installarlo:\n",
    "\n",
    "```bash\n",
    "pip install pandas-profiling\n",
    "```\n",
    "\n",
    "---"
   ]
  },
  {
   "cell_type": "markdown",
   "metadata": {},
   "source": [
    "### **Come Utilizzare Pandas Profiling**\n",
    "\n",
    "#### **Importazione della libreria**\n",
    "\n",
    "```python\n",
    "import pandas as pd\n",
    "from pandas_profiling import ProfileReport\n",
    "```"
   ]
  },
  {
   "cell_type": "markdown",
   "metadata": {},
   "source": [
    "#### **Creazione di un DataFrame di esempio**\n",
    "\n",
    "```python\n",
    "data = {\n",
    "    'Nome': ['Anna', 'Luca', 'Marta', 'Paolo', 'Giulia'],\n",
    "    'Età': [25, 32, 29, 40, 22],\n",
    "    'Reddito': [50000, 60000, 75000, 90000, 45000],\n",
    "    'Città': ['Milano', 'Roma', 'Napoli', 'Roma', 'Milano']\n",
    "}\n",
    "\n",
    "df = pd.DataFrame(data)\n",
    "```"
   ]
  },
  {
   "cell_type": "markdown",
   "metadata": {},
   "source": [
    "#### **Generazione del Report**\n",
    "\n",
    "Per generare un report:\n",
    "\n",
    "```python\n",
    "profile = ProfileReport(df, title=\"Profilo del DataFrame\", explorative=True)\n",
    "profile.to_file(\"report.html\")\n",
    "```\n",
    "\n",
    "Questo codice salva un report HTML completo.\n",
    "\n",
    "---"
   ]
  },
  {
   "cell_type": "markdown",
   "metadata": {},
   "source": [
    "### **Metodi Principali di Pandas Profiling**"
   ]
  },
  {
   "cell_type": "markdown",
   "metadata": {},
   "source": [
    "#### **1. ProfileReport**\n",
    "\n",
    "- **Sintassi**: `ProfileReport(df, title=\"Titolo\", explorative=True)`\n",
    "- Genera un oggetto report dal DataFrame fornito.\n",
    "- Parametri principali:\n",
    "  - `df`: il DataFrame Pandas da analizzare.\n",
    "  - `title`: titolo del report (opzionale).\n",
    "  - `explorative`: se impostato a `True`, include funzionalità aggiuntive come la correlazione avanzata."
   ]
  },
  {
   "cell_type": "markdown",
   "metadata": {},
   "source": [
    "#### **2. to_file**\n",
    "\n",
    "- **Sintassi**: `profile.to_file(\"nome_file.html\")`\n",
    "- Salva il report in un file HTML o JSON."
   ]
  },
  {
   "cell_type": "markdown",
   "metadata": {},
   "source": [
    "#### **3. to_notebook_iframe**\n",
    "\n",
    "- **Sintassi**: `profile.to_notebook_iframe()`\n",
    "- Mostra il report direttamente in un Jupyter Notebook."
   ]
  },
  {
   "cell_type": "markdown",
   "metadata": {},
   "source": [
    "#### **4. to_widgets**\n",
    "\n",
    "- **Sintassi**: `profile.to_widgets()`\n",
    "- Visualizza il report come widget interattivo in un notebook Jupyter."
   ]
  },
  {
   "cell_type": "markdown",
   "metadata": {},
   "source": [
    "#### **5. get_description**\n",
    "\n",
    "- **Sintassi**: `profile.get_description()`\n",
    "- Restituisce un dizionario contenente le statistiche del report.\n",
    "- Esempio:\n",
    "\n",
    "```python\n",
    "description = profile.get_description()\n",
    "print(description)\n",
    "```\n",
    "\n",
    "---"
   ]
  },
  {
   "cell_type": "markdown",
   "metadata": {},
   "source": [
    "### **Funzionalità del Report**"
   ]
  },
  {
   "cell_type": "markdown",
   "metadata": {},
   "source": [
    "#### **1. Panoramica Generale**\n",
    "- Numero di variabili\n",
    "- Numero di osservazioni\n",
    "- Valori mancanti\n",
    "- Tipo di variabili (numeriche, categoriche, booleane, etc.)"
   ]
  },
  {
   "cell_type": "markdown",
   "metadata": {},
   "source": [
    "#### **2. Statistiche Descrittive**\n",
    "- Media, mediana, deviazione standard, valori minimi e massimi per variabili numeriche.\n",
    "- Conteggio delle categorie per variabili categoriche."
   ]
  },
  {
   "cell_type": "markdown",
   "metadata": {},
   "source": [
    "#### **3. Correlazioni**\n",
    "- Analisi delle correlazioni utilizzando Pearson, Spearman o Kendall.\n",
    "- Matrice di correlazione visiva."
   ]
  },
  {
   "cell_type": "markdown",
   "metadata": {},
   "source": [
    "#### **4. Valori Mancanti**\n",
    "- Conteggio e percentuale di valori nulli per ogni colonna.\n",
    "- Visualizzazioni come heatmap per identificare schemi di valori mancanti."
   ]
  },
  {
   "cell_type": "markdown",
   "metadata": {},
   "source": [
    "#### **5. Distribuzioni delle Variabili**\n",
    "- Istogrammi per variabili numeriche.\n",
    "- Diagrammi a torta per variabili categoriche."
   ]
  },
  {
   "cell_type": "markdown",
   "metadata": {},
   "source": [
    "#### **6. Rilevamento di Valori Anomali**\n",
    "- Identificazione di outlier utilizzando tecniche statistiche."
   ]
  },
  {
   "cell_type": "markdown",
   "metadata": {},
   "source": [
    "#### **7. Report Interattivo**\n",
    "- Possibilità di esplorare ogni variabile cliccando sul suo nome.\n",
    "\n",
    "---"
   ]
  },
  {
   "cell_type": "markdown",
   "metadata": {},
   "source": [
    "### **Esempio Completo**\n",
    "\n",
    "```python\n",
    "import pandas as pd\n",
    "from pandas_profiling import ProfileReport\n",
    "\n",
    "# Creazione del DataFrame\n",
    "data = {\n",
    "    'Nome': ['Anna', 'Luca', 'Marta', 'Paolo', 'Giulia'],\n",
    "    'Età': [25, 32, 29, 40, 22],\n",
    "    'Reddito': [50000, 60000, 75000, 90000, 45000],\n",
    "    'Città': ['Milano', 'Roma', 'Napoli', 'Roma', 'Milano']\n",
    "}\n",
    "\n",
    "df = pd.DataFrame(data)\n",
    "\n",
    "# Creazione del profilo\n",
    "profile = ProfileReport(df, title=\"Profilo del DataFrame\", explorative=True)\n",
    "\n",
    "# Salvataggio del report\n",
    "profile.to_file(\"report.html\")\n",
    "\n",
    "# Visualizzazione in un notebook\n",
    "profile.to_notebook_iframe()\n",
    "```\n",
    "\n",
    "---"
   ]
  },
  {
   "cell_type": "markdown",
   "metadata": {},
   "source": [
    "### **Vantaggi di Pandas Profiling**\n",
    "\n",
    "1. **Semplicità**: Non richiede configurazioni complesse.\n",
    "2. **Automatizzazione**: Genera automaticamente una panoramica dettagliata del dataset.\n",
    "3. **Interattività**: I report sono ricchi di grafici e statistiche visive.\n",
    "4. **Esportazione**: Puoi salvare i report per condividerli o consultarli successivamente.\n",
    "\n",
    "---\n",
    "\n",
    "Con Pandas Profiling, è possibile eseguire un'analisi esplorativa dei dati completa in pochi passaggi, risparmiando tempo e aumentando l'efficienza del flusso di lavoro."
   ]
  }
 ],
 "metadata": {
  "language_info": {
   "name": "python"
  }
 },
 "nbformat": 4,
 "nbformat_minor": 2
}
